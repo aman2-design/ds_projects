{
 "cells": [
  {
   "cell_type": "raw",
   "id": "97f7d58a",
   "metadata": {},
   "source": [
    "Requirement:to call an csv file to get the data consisting of one independent and one dependent variable and with that we have to find an optimised function."
   ]
  },
  {
   "cell_type": "code",
   "execution_count": 292,
   "id": "30c65708",
   "metadata": {},
   "outputs": [],
   "source": [
    "import pandas as pd\n",
    "import numpy as np\n",
    "import seaborn as sns\n",
    "import warnings\n",
    "warnings.filterwarnings(\"ignore\")"
   ]
  },
  {
   "cell_type": "code",
   "execution_count": 293,
   "id": "6bc8f7fa",
   "metadata": {},
   "outputs": [],
   "source": [
    "# taking a simple house price dataset downloaded from kaggle\n",
    "\n",
    "df = pd.read_csv(r\"/Users/amani/Downloads/Housing.csv\")"
   ]
  },
  {
   "cell_type": "code",
   "execution_count": 294,
   "id": "f9609ac1",
   "metadata": {},
   "outputs": [
    {
     "data": {
      "text/html": [
       "<div>\n",
       "<style scoped>\n",
       "    .dataframe tbody tr th:only-of-type {\n",
       "        vertical-align: middle;\n",
       "    }\n",
       "\n",
       "    .dataframe tbody tr th {\n",
       "        vertical-align: top;\n",
       "    }\n",
       "\n",
       "    .dataframe thead th {\n",
       "        text-align: right;\n",
       "    }\n",
       "</style>\n",
       "<table border=\"1\" class=\"dataframe\">\n",
       "  <thead>\n",
       "    <tr style=\"text-align: right;\">\n",
       "      <th></th>\n",
       "      <th>price</th>\n",
       "      <th>area</th>\n",
       "      <th>bedrooms</th>\n",
       "      <th>bathrooms</th>\n",
       "      <th>stories</th>\n",
       "      <th>mainroad</th>\n",
       "      <th>guestroom</th>\n",
       "      <th>basement</th>\n",
       "      <th>hotwaterheating</th>\n",
       "      <th>airconditioning</th>\n",
       "      <th>parking</th>\n",
       "      <th>prefarea</th>\n",
       "      <th>furnishingstatus</th>\n",
       "    </tr>\n",
       "  </thead>\n",
       "  <tbody>\n",
       "    <tr>\n",
       "      <th>0</th>\n",
       "      <td>13300000</td>\n",
       "      <td>7420</td>\n",
       "      <td>4</td>\n",
       "      <td>2</td>\n",
       "      <td>3</td>\n",
       "      <td>yes</td>\n",
       "      <td>no</td>\n",
       "      <td>no</td>\n",
       "      <td>no</td>\n",
       "      <td>yes</td>\n",
       "      <td>2</td>\n",
       "      <td>yes</td>\n",
       "      <td>furnished</td>\n",
       "    </tr>\n",
       "    <tr>\n",
       "      <th>1</th>\n",
       "      <td>12250000</td>\n",
       "      <td>8960</td>\n",
       "      <td>4</td>\n",
       "      <td>4</td>\n",
       "      <td>4</td>\n",
       "      <td>yes</td>\n",
       "      <td>no</td>\n",
       "      <td>no</td>\n",
       "      <td>no</td>\n",
       "      <td>yes</td>\n",
       "      <td>3</td>\n",
       "      <td>no</td>\n",
       "      <td>furnished</td>\n",
       "    </tr>\n",
       "    <tr>\n",
       "      <th>2</th>\n",
       "      <td>12250000</td>\n",
       "      <td>9960</td>\n",
       "      <td>3</td>\n",
       "      <td>2</td>\n",
       "      <td>2</td>\n",
       "      <td>yes</td>\n",
       "      <td>no</td>\n",
       "      <td>yes</td>\n",
       "      <td>no</td>\n",
       "      <td>no</td>\n",
       "      <td>2</td>\n",
       "      <td>yes</td>\n",
       "      <td>semi-furnished</td>\n",
       "    </tr>\n",
       "    <tr>\n",
       "      <th>3</th>\n",
       "      <td>12215000</td>\n",
       "      <td>7500</td>\n",
       "      <td>4</td>\n",
       "      <td>2</td>\n",
       "      <td>2</td>\n",
       "      <td>yes</td>\n",
       "      <td>no</td>\n",
       "      <td>yes</td>\n",
       "      <td>no</td>\n",
       "      <td>yes</td>\n",
       "      <td>3</td>\n",
       "      <td>yes</td>\n",
       "      <td>furnished</td>\n",
       "    </tr>\n",
       "    <tr>\n",
       "      <th>4</th>\n",
       "      <td>11410000</td>\n",
       "      <td>7420</td>\n",
       "      <td>4</td>\n",
       "      <td>1</td>\n",
       "      <td>2</td>\n",
       "      <td>yes</td>\n",
       "      <td>yes</td>\n",
       "      <td>yes</td>\n",
       "      <td>no</td>\n",
       "      <td>yes</td>\n",
       "      <td>2</td>\n",
       "      <td>no</td>\n",
       "      <td>furnished</td>\n",
       "    </tr>\n",
       "  </tbody>\n",
       "</table>\n",
       "</div>"
      ],
      "text/plain": [
       "      price  area  bedrooms  bathrooms  stories mainroad guestroom basement  \\\n",
       "0  13300000  7420         4          2        3      yes        no       no   \n",
       "1  12250000  8960         4          4        4      yes        no       no   \n",
       "2  12250000  9960         3          2        2      yes        no      yes   \n",
       "3  12215000  7500         4          2        2      yes        no      yes   \n",
       "4  11410000  7420         4          1        2      yes       yes      yes   \n",
       "\n",
       "  hotwaterheating airconditioning  parking prefarea furnishingstatus  \n",
       "0              no             yes        2      yes        furnished  \n",
       "1              no             yes        3       no        furnished  \n",
       "2              no              no        2      yes   semi-furnished  \n",
       "3              no             yes        3      yes        furnished  \n",
       "4              no             yes        2       no        furnished  "
      ]
     },
     "execution_count": 294,
     "metadata": {},
     "output_type": "execute_result"
    }
   ],
   "source": [
    "df.head()"
   ]
  },
  {
   "cell_type": "code",
   "execution_count": 295,
   "id": "3df382bc",
   "metadata": {},
   "outputs": [],
   "source": [
    "df_1 = df[[\"area\",\"price\"]]\n",
    "df_1.rename({\"price\":\"y\",\"area\":\"x\"},axis = 1,inplace = True)"
   ]
  },
  {
   "cell_type": "code",
   "execution_count": 296,
   "id": "ea31ea9e",
   "metadata": {},
   "outputs": [
    {
     "data": {
      "text/html": [
       "<div>\n",
       "<style scoped>\n",
       "    .dataframe tbody tr th:only-of-type {\n",
       "        vertical-align: middle;\n",
       "    }\n",
       "\n",
       "    .dataframe tbody tr th {\n",
       "        vertical-align: top;\n",
       "    }\n",
       "\n",
       "    .dataframe thead th {\n",
       "        text-align: right;\n",
       "    }\n",
       "</style>\n",
       "<table border=\"1\" class=\"dataframe\">\n",
       "  <thead>\n",
       "    <tr style=\"text-align: right;\">\n",
       "      <th></th>\n",
       "      <th>x</th>\n",
       "      <th>y</th>\n",
       "    </tr>\n",
       "  </thead>\n",
       "  <tbody>\n",
       "    <tr>\n",
       "      <th>0</th>\n",
       "      <td>7420</td>\n",
       "      <td>13300000</td>\n",
       "    </tr>\n",
       "    <tr>\n",
       "      <th>1</th>\n",
       "      <td>8960</td>\n",
       "      <td>12250000</td>\n",
       "    </tr>\n",
       "    <tr>\n",
       "      <th>2</th>\n",
       "      <td>9960</td>\n",
       "      <td>12250000</td>\n",
       "    </tr>\n",
       "    <tr>\n",
       "      <th>3</th>\n",
       "      <td>7500</td>\n",
       "      <td>12215000</td>\n",
       "    </tr>\n",
       "    <tr>\n",
       "      <th>4</th>\n",
       "      <td>7420</td>\n",
       "      <td>11410000</td>\n",
       "    </tr>\n",
       "    <tr>\n",
       "      <th>...</th>\n",
       "      <td>...</td>\n",
       "      <td>...</td>\n",
       "    </tr>\n",
       "    <tr>\n",
       "      <th>540</th>\n",
       "      <td>3000</td>\n",
       "      <td>1820000</td>\n",
       "    </tr>\n",
       "    <tr>\n",
       "      <th>541</th>\n",
       "      <td>2400</td>\n",
       "      <td>1767150</td>\n",
       "    </tr>\n",
       "    <tr>\n",
       "      <th>542</th>\n",
       "      <td>3620</td>\n",
       "      <td>1750000</td>\n",
       "    </tr>\n",
       "    <tr>\n",
       "      <th>543</th>\n",
       "      <td>2910</td>\n",
       "      <td>1750000</td>\n",
       "    </tr>\n",
       "    <tr>\n",
       "      <th>544</th>\n",
       "      <td>3850</td>\n",
       "      <td>1750000</td>\n",
       "    </tr>\n",
       "  </tbody>\n",
       "</table>\n",
       "<p>545 rows × 2 columns</p>\n",
       "</div>"
      ],
      "text/plain": [
       "        x         y\n",
       "0    7420  13300000\n",
       "1    8960  12250000\n",
       "2    9960  12250000\n",
       "3    7500  12215000\n",
       "4    7420  11410000\n",
       "..    ...       ...\n",
       "540  3000   1820000\n",
       "541  2400   1767150\n",
       "542  3620   1750000\n",
       "543  2910   1750000\n",
       "544  3850   1750000\n",
       "\n",
       "[545 rows x 2 columns]"
      ]
     },
     "execution_count": 296,
     "metadata": {},
     "output_type": "execute_result"
    }
   ],
   "source": [
    "df_1    # area is independent variable(x) and price is dependent variable(y)"
   ]
  },
  {
   "cell_type": "code",
   "execution_count": 297,
   "id": "aa22a9ec",
   "metadata": {},
   "outputs": [],
   "source": [
    "# For simplification lets take only first 20 data\n",
    "df_1 = df_1[:20]"
   ]
  },
  {
   "cell_type": "code",
   "execution_count": 298,
   "id": "523e0c44",
   "metadata": {},
   "outputs": [
    {
     "data": {
      "text/plain": [
       "(20, 2)"
      ]
     },
     "execution_count": 298,
     "metadata": {},
     "output_type": "execute_result"
    }
   ],
   "source": [
    "df_1.shape"
   ]
  },
  {
   "cell_type": "code",
   "execution_count": 299,
   "id": "1c72b57b",
   "metadata": {},
   "outputs": [
    {
     "data": {
      "text/plain": [
       "<Axes: xlabel='x', ylabel='y'>"
      ]
     },
     "execution_count": 299,
     "metadata": {},
     "output_type": "execute_result"
    },
    {
     "data": {
      "image/png": "[encoded data removed]",
      "text/plain": [
       "<Figure size 640x480 with 1 Axes>"
      ]
     },
     "metadata": {},
     "output_type": "display_data"
    }
   ],
   "source": [
    "sns.lineplot(data = df_1,x = \"x\",y = \"y\")"
   ]
  },
  {
   "cell_type": "code",
   "execution_count": 300,
   "id": "12ed90ab",
   "metadata": {},
   "outputs": [
    {
     "data": {
      "text/plain": [
       "<Axes: xlabel='x', ylabel='y'>"
      ]
     },
     "execution_count": 300,
     "metadata": {},
     "output_type": "execute_result"
    },
    {
     "data": {
      "image/png": "[encoded data removed]",
      "text/plain": [
       "<Figure size 640x480 with 1 Axes>"
      ]
     },
     "metadata": {},
     "output_type": "display_data"
    }
   ],
   "source": [
    "sns.scatterplot(data = df_1,x = \"x\",y = \"y\")"
   ]
  },
  {
   "cell_type": "code",
   "execution_count": 301,
   "id": "ce0a73c3",
   "metadata": {},
   "outputs": [],
   "source": [
    "x_mean = round(np.mean(df_1['x']))\n",
    "x_std = round(np.std(df_1['x']))\n",
    "y_mean = round(np.mean(df_1['y']))\n",
    "y_std = round(np.std(df_1['y']))"
   ]
  },
  {
   "cell_type": "code",
   "execution_count": 302,
   "id": "e8de53a2",
   "metadata": {},
   "outputs": [
    {
     "data": {
      "text/plain": [
       "(7828, 2754, 10221050, 1318602)"
      ]
     },
     "execution_count": 302,
     "metadata": {},
     "output_type": "execute_result"
    }
   ],
   "source": [
    "x_mean,x_std,y_mean,y_std"
   ]
  },
  {
   "cell_type": "markdown",
   "id": "8845fc8a",
   "metadata": {},
   "source": [
    "# Scaling"
   ]
  },
  {
   "cell_type": "code",
   "execution_count": 303,
   "id": "10d7093a",
   "metadata": {},
   "outputs": [
    {
     "data": {
      "text/plain": [
       "array([[0.30866142, 1.        ],\n",
       "       [0.42992126, 0.76377953],\n",
       "       [0.50866142, 0.76377953],\n",
       "       [0.31496063, 0.75590551],\n",
       "       [0.30866142, 0.57480315],\n",
       "       [0.31496063, 0.4488189 ],\n",
       "       [0.4       , 0.29133858],\n",
       "       [1.        , 0.29133858],\n",
       "       [0.36220472, 0.22834646],\n",
       "       [0.17716535, 0.21259843],\n",
       "       [0.76377953, 0.21259843],\n",
       "       [0.19685039, 0.18582677],\n",
       "       [0.24015748, 0.1023622 ],\n",
       "       [0.        , 0.08661417],\n",
       "       [0.33858268, 0.08661417],\n",
       "       [0.19685039, 0.05511811],\n",
       "       [0.24409449, 0.05511811],\n",
       "       [0.39370079, 0.02362205],\n",
       "       [0.08661417, 0.00787402],\n",
       "       [0.22992126, 0.        ]])"
      ]
     },
     "execution_count": 303,
     "metadata": {},
     "output_type": "execute_result"
    }
   ],
   "source": [
    "\n",
    "\n",
    "from sklearn.preprocessing import MinMaxScaler\n",
    "\n",
    "scaler = MinMaxScaler()\n",
    "\n",
    "scaler.fit(df_1)\n",
    "\n",
    "scaled_data = scaler.transform(df_1)\n",
    "\n",
    "scaled_data"
   ]
  },
  {
   "cell_type": "markdown",
   "id": "9fbb42d1",
   "metadata": {},
   "source": [
    "# Optimization 1"
   ]
  },
  {
   "cell_type": "code",
   "execution_count": 304,
   "id": "e82a1c79",
   "metadata": {},
   "outputs": [],
   "source": [
    "# Gradient descent technique for perfect optimisation "
   ]
  },
  {
   "cell_type": "code",
   "execution_count": 319,
   "id": "3b184be8",
   "metadata": {},
   "outputs": [],
   "source": [
    "#our equation y_pred = mx+b\n",
    "# lets take mean square error = loss function---> (Y-(mx+b))^2/total data\n",
    "# in each intertaion wts(m) and intercept/bias(b) will be updated\n",
    "\n",
    "# m = wts\n",
    "\n",
    "def optimization(x,y):\n",
    "    \n",
    "    learning = 0.001\n",
    "    initial_m = 0.1\n",
    "    initial_b = 0.01\n",
    "    total_interation = 50\n",
    "    initial_loss = None\n",
    "    \n",
    "    \n",
    "    # storing in list to make plots\n",
    "    error = []\n",
    "    m = []\n",
    "\n",
    "\n",
    "    for i in range(0,total_interation):\n",
    "\n",
    "        y_pred = (initial_m * x) + initial_b    # our linear equation\n",
    "\n",
    "        loss = np.sum((y - y_pred)**2)/len(y)\n",
    "        \n",
    "        error.append(loss)\n",
    "        m.append(initial_m)\n",
    "\n",
    "        m_partial_derivative = (-2/n)*sum(x*(y-y_pred))\n",
    "        b_partial_derivative = (-2/n)*sum(y-y_pred)\n",
    "\n",
    "\n",
    "        # updation for optimised wt.\n",
    "\n",
    "        initial_m = (initial_m-(learning * m_partial_derivative)) # updating values as per noteboook screen shot shared\n",
    "        initial_b = (initial_b-(learning * b_partial_derivative))  # updating values as per noteboook screen shot shared\n",
    "        \n",
    "        print(\"Interation:\",i+1,\"Loss:\",loss,\",new_m:\",initial_m,\",new_b:\",initial_b)\n",
    "        \n",
    "    plt.plot(m,error)\n",
    "    plt.xlabel(\"m(weight)\")\n",
    "    plt.ylabel(\"loss\")\n",
    "        \n",
    "    return initial_m,initial_b\n"
   ]
  },
  {
   "cell_type": "code",
   "execution_count": 320,
   "id": "5aba89a7",
   "metadata": {},
   "outputs": [],
   "source": [
    "x = scaled_data[:,0]\n",
    "y = scaled_data[:,1]\n"
   ]
  },
  {
   "cell_type": "code",
   "execution_count": 321,
   "id": "7ccb1a15",
   "metadata": {},
   "outputs": [
    {
     "name": "stdout",
     "output_type": "stream",
     "text": [
      "Interation: 1 Loss: 0.15473643809287618 ,new_m: 0.10000053997679424 ,new_b: 0.010001419105630665\n",
      "Interation: 2 Loss: 0.1547355827788043 ,new_m: 0.10000107995050646 ,new_b: 0.010002838202619158\n",
      "Interation: 3 Loss: 0.15473472747506728 ,new_m: 0.10000161992113665 ,new_b: 0.01000425729096553\n",
      "Interation: 4 Loss: 0.15473387218166484 ,new_m: 0.10000215988868487 ,new_b: 0.010005676370669835\n",
      "Interation: 5 Loss: 0.15473301689859703 ,new_m: 0.1000026998531511 ,new_b: 0.010007095441732124\n",
      "Interation: 6 Loss: 0.1547321616258636 ,new_m: 0.10000323981453539 ,new_b: 0.01000851450415245\n",
      "Interation: 7 Loss: 0.15473130636346447 ,new_m: 0.10000377977283774 ,new_b: 0.010009933557930865\n",
      "Interation: 8 Loss: 0.15473045111139952 ,new_m: 0.10000431972805816 ,new_b: 0.010011352603067422\n",
      "Interation: 9 Loss: 0.15472959586966858 ,new_m: 0.10000485968019669 ,new_b: 0.010012771639562172\n",
      "Interation: 10 Loss: 0.1547287406382716 ,new_m: 0.10000539962925334 ,new_b: 0.01001419066741517\n",
      "Interation: 11 Loss: 0.15472788541720836 ,new_m: 0.10000593957522813 ,new_b: 0.010015609686626464\n",
      "Interation: 12 Loss: 0.15472703020647888 ,new_m: 0.10000647951812108 ,new_b: 0.010017028697196109\n",
      "Interation: 13 Loss: 0.15472617500608288 ,new_m: 0.10000701945793221 ,new_b: 0.010018447699124156\n",
      "Interation: 14 Loss: 0.15472531981602033 ,new_m: 0.10000755939466152 ,new_b: 0.010019866692410659\n",
      "Interation: 15 Loss: 0.15472446463629103 ,new_m: 0.10000809932830905 ,new_b: 0.010021285677055668\n",
      "Interation: 16 Loss: 0.15472360946689495 ,new_m: 0.1000086392588748 ,new_b: 0.010022704653059237\n",
      "Interation: 17 Loss: 0.1547227543078319 ,new_m: 0.10000917918635882 ,new_b: 0.010024123620421418\n",
      "Interation: 18 Loss: 0.15472189915910178 ,new_m: 0.1000097191107611 ,new_b: 0.010025542579142264\n",
      "Interation: 19 Loss: 0.15472104402070444 ,new_m: 0.10001025903208167 ,new_b: 0.010026961529221825\n",
      "Interation: 20 Loss: 0.15472018889263978 ,new_m: 0.10001079895032054 ,new_b: 0.010028380470660155\n",
      "Interation: 21 Loss: 0.15471933377490762 ,new_m: 0.10001133886547774 ,new_b: 0.010029799403457305\n",
      "Interation: 22 Loss: 0.15471847866750796 ,new_m: 0.10001187877755328 ,new_b: 0.010031218327613327\n",
      "Interation: 23 Loss: 0.15471762357044055 ,new_m: 0.10001241868654719 ,new_b: 0.010032637243128275\n",
      "Interation: 24 Loss: 0.15471676848370536 ,new_m: 0.10001295859245947 ,new_b: 0.0100340561500022\n",
      "Interation: 25 Loss: 0.15471591340730215 ,new_m: 0.10001349849529015 ,new_b: 0.010035475048235154\n",
      "Interation: 26 Loss: 0.15471505834123084 ,new_m: 0.10001403839503925 ,new_b: 0.01003689393782719\n",
      "Interation: 27 Loss: 0.1547142032854914 ,new_m: 0.10001457829170679 ,new_b: 0.010038312818778362\n",
      "Interation: 28 Loss: 0.15471334824008362 ,new_m: 0.10001511818529278 ,new_b: 0.010039731691088719\n",
      "Interation: 29 Loss: 0.15471249320500738 ,new_m: 0.10001565807579725 ,new_b: 0.010041150554758314\n",
      "Interation: 30 Loss: 0.15471163818026254 ,new_m: 0.1000161979632202 ,new_b: 0.0100425694097872\n",
      "Interation: 31 Loss: 0.15471078316584908 ,new_m: 0.10001673784756167 ,new_b: 0.01004398825617543\n",
      "Interation: 32 Loss: 0.15470992816176668 ,new_m: 0.10001727772882166 ,new_b: 0.010045407093923054\n",
      "Interation: 33 Loss: 0.15470907316801538 ,new_m: 0.1000178176070002 ,new_b: 0.010046825923030127\n",
      "Interation: 34 Loss: 0.15470821818459501 ,new_m: 0.10001835748209731 ,new_b: 0.0100482447434967\n",
      "Interation: 35 Loss: 0.15470736321150538 ,new_m: 0.100018897354113 ,new_b: 0.010049663555322825\n",
      "Interation: 36 Loss: 0.15470650824874654 ,new_m: 0.10001943722304729 ,new_b: 0.010051082358508554\n",
      "Interation: 37 Loss: 0.15470565329631814 ,new_m: 0.1000199770889002 ,new_b: 0.01005250115305394\n",
      "Interation: 38 Loss: 0.15470479835422019 ,new_m: 0.10002051695167176 ,new_b: 0.010053919938959033\n",
      "Interation: 39 Loss: 0.15470394342245256 ,new_m: 0.10002105681136197 ,new_b: 0.010055338716223888\n",
      "Interation: 40 Loss: 0.15470308850101508 ,new_m: 0.10002159666797086 ,new_b: 0.010056757484848557\n",
      "Interation: 41 Loss: 0.15470223358990767 ,new_m: 0.10002213652149845 ,new_b: 0.01005817624483309\n",
      "Interation: 42 Loss: 0.15470137868913017 ,new_m: 0.10002267637194476 ,new_b: 0.010059594996177541\n",
      "Interation: 43 Loss: 0.15470052379868243 ,new_m: 0.10002321621930979 ,new_b: 0.010061013738881963\n",
      "Interation: 44 Loss: 0.15469966891856443 ,new_m: 0.10002375606359358 ,new_b: 0.010062432472946407\n",
      "Interation: 45 Loss: 0.154698814048776 ,new_m: 0.10002429590479614 ,new_b: 0.010063851198370926\n",
      "Interation: 46 Loss: 0.1546979591893169 ,new_m: 0.10002483574291748 ,new_b: 0.010065269915155571\n",
      "Interation: 47 Loss: 0.15469710434018719 ,new_m: 0.10002537557795764 ,new_b: 0.010066688623300395\n",
      "Interation: 48 Loss: 0.1546962495013866 ,new_m: 0.10002591540991662 ,new_b: 0.010068107322805449\n",
      "Interation: 49 Loss: 0.15469539467291504 ,new_m: 0.10002645523879446 ,new_b: 0.010069526013670787\n",
      "Interation: 50 Loss: 0.15469453985477244 ,new_m: 0.10002699506459115 ,new_b: 0.01007094469589646\n"
     ]
    },
    {
     "data": {
      "image/png": "[encoded data removed]",
      "text/plain": [
       "<Figure size 640x480 with 1 Axes>"
      ]
     },
     "metadata": {},
     "output_type": "display_data"
    }
   ],
   "source": [
    "Final_m, Final_b = optimization(x, y)\n"
   ]
  },
  {
   "cell_type": "code",
   "execution_count": 327,
   "id": "dbd1e04f",
   "metadata": {},
   "outputs": [
    {
     "name": "stdout",
     "output_type": "stream",
     "text": [
      "Final_m: 0.10002699506459115 Final_b: 0.01007094469589646\n"
     ]
    }
   ],
   "source": [
    "print(\"Final_m:\",Final_m,\"Final_b:\",Final_b)"
   ]
  },
  {
   "cell_type": "code",
   "execution_count": 328,
   "id": "0511fe0f",
   "metadata": {},
   "outputs": [],
   "source": [
    "# Final optimised values\n",
    "\n",
    "y_pred = Final_m*x + Final_b\n"
   ]
  },
  {
   "cell_type": "code",
   "execution_count": 332,
   "id": "fa5e8fef",
   "metadata": {},
   "outputs": [
    {
     "data": {
      "text/plain": [
       "0.01007094469589646"
      ]
     },
     "execution_count": 332,
     "metadata": {},
     "output_type": "execute_result"
    }
   ],
   "source": [
    "Final_b"
   ]
  },
  {
   "cell_type": "code",
   "execution_count": 329,
   "id": "5887e9b4",
   "metadata": {},
   "outputs": [
    {
     "data": {
      "text/plain": [
       "array([0.04094542, 0.05307468, 0.06095082, 0.04157551, 0.04094542,\n",
       "       0.04157551, 0.05008174, 0.11009794, 0.04630119, 0.02779226,\n",
       "       0.08646952, 0.0297613 , 0.03409318, 0.01007094, 0.04393835,\n",
       "       0.0297613 , 0.03448698, 0.04945165, 0.0187347 , 0.03306928])"
      ]
     },
     "execution_count": 329,
     "metadata": {},
     "output_type": "execute_result"
    }
   ],
   "source": [
    "y_pred"
   ]
  },
  {
   "cell_type": "code",
   "execution_count": 340,
   "id": "bf6cafdf",
   "metadata": {},
   "outputs": [
    {
     "data": {
      "text/plain": [
       "Text(0.5, 1.0, 'Regression line')"
      ]
     },
     "execution_count": 340,
     "metadata": {},
     "output_type": "execute_result"
    },
    {
     "data": {
      "image/png": "[encoded data removed]",
      "text/plain": [
       "<Figure size 640x480 with 1 Axes>"
      ]
     },
     "metadata": {},
     "output_type": "display_data"
    }
   ],
   "source": [
    "plt.scatter(x, y, marker='o', color='red')\n",
    "\n",
    "plt.plot([min(x), max(x)], [min(y_pred), max(y_pred)],linestyle='dashed')\n",
    "\n",
    "plt.xlabel(\"x\")\n",
    "plt.ylabel(\"y\")\n",
    "plt.title(\"Regression line\")\n"
   ]
  },
  {
   "cell_type": "code",
   "execution_count": 339,
   "id": "23714d19",
   "metadata": {},
   "outputs": [
    {
     "data": {
      "text/plain": [
       "(0.0, 1.0, 0.01007094469589646, 0.11009793976048761)"
      ]
     },
     "execution_count": 339,
     "metadata": {},
     "output_type": "execute_result"
    }
   ],
   "source": [
    "min(x), max(x),min(y_pred), max(y_pred)"
   ]
  },
  {
   "cell_type": "code",
   "execution_count": null,
   "id": "e938d903",
   "metadata": {},
   "outputs": [],
   "source": []
  },
  {
   "cell_type": "markdown",
   "id": "e0ea15c3",
   "metadata": {},
   "source": [
    "# Optimization 2 (Linear Assumption)"
   ]
  },
  {
   "cell_type": "code",
   "execution_count": 120,
   "id": "523479f0",
   "metadata": {},
   "outputs": [],
   "source": [
    "# Generally for optimisation between one independet and one dependent variable linear regression analysis used:::\n",
    "# Assumption to be a linear function ---> y = ax+b\n",
    "\n",
    "# As we can see here for some values of x there is some values of y.\n",
    "# Finding a function in which while putting value of x , value of y should come(approx)\n",
    "\n",
    "\n",
    "\n",
    "# x_mean,x_std,y_mean,y_std\n",
    "\n",
    "# slop_a = (covariance(x,y))/(x_std**2)\n",
    "# intercept_b = mean_y-slop_a(mean_x)\n"
   ]
  },
  {
   "cell_type": "code",
   "execution_count": 106,
   "id": "e78f031f",
   "metadata": {},
   "outputs": [
    {
     "name": "stdout",
     "output_type": "stream",
     "text": [
      "[[7.98379579e+06 9.00721684e+08]\n",
      " [9.00721684e+08 1.83022363e+12]]\n"
     ]
    }
   ],
   "source": [
    "# Finding Covariance\n",
    "\n",
    "cov_mat = np.stack((df_1[\"x\"], df_1[\"y\"]), axis = 0) \n",
    "covariance_x_y = np.cov(cov_mat)\n",
    "print(covariance_x_y)\n"
   ]
  },
  {
   "cell_type": "code",
   "execution_count": 107,
   "id": "1c6fc8e9",
   "metadata": {},
   "outputs": [
    {
     "data": {
      "text/plain": [
       "900721684.2105262"
      ]
     },
     "execution_count": 107,
     "metadata": {},
     "output_type": "execute_result"
    }
   ],
   "source": [
    "covariance_x_y[0][1]"
   ]
  },
  {
   "cell_type": "code",
   "execution_count": 111,
   "id": "36b1dfe0",
   "metadata": {},
   "outputs": [
    {
     "data": {
      "text/plain": [
       "118.75796480757984"
      ]
     },
     "execution_count": 111,
     "metadata": {},
     "output_type": "execute_result"
    }
   ],
   "source": [
    "slop_a = covariance_x_y[0][1]/(x_std**2)\n",
    "slop_a"
   ]
  },
  {
   "cell_type": "code",
   "execution_count": 116,
   "id": "869d6854",
   "metadata": {},
   "outputs": [
    {
     "data": {
      "text/plain": [
       "9291412.651486265"
      ]
     },
     "execution_count": 116,
     "metadata": {},
     "output_type": "execute_result"
    }
   ],
   "source": [
    "intercept_b = y_mean-(slop_a*x_mean)\n",
    "intercept_b"
   ]
  },
  {
   "cell_type": "code",
   "execution_count": 119,
   "id": "c6fd7153",
   "metadata": {},
   "outputs": [
    {
     "data": {
      "text/plain": [
       "10172596.750358507"
      ]
     },
     "execution_count": 119,
     "metadata": {},
     "output_type": "execute_result"
    }
   ],
   "source": [
    "#y = ax+b(Best function values)\n",
    "\n",
    "y = (slop_a*7420)+intercept_b\n",
    "y   # y original = 13300000"
   ]
  },
  {
   "cell_type": "markdown",
   "id": "08612c4d",
   "metadata": {},
   "source": [
    "# Function for optimization 2"
   ]
  },
  {
   "cell_type": "code",
   "execution_count": 129,
   "id": "39f08ab5",
   "metadata": {},
   "outputs": [],
   "source": [
    "# Function to get first value of y by giving x=7420,we can make this function to calculate for whole and \n",
    "# calculate total loss\n",
    "\n",
    "# relationship assumption to be linear.\n",
    "\n",
    "# some formulae refer from net\n",
    "\n",
    "def optimization1(path):\n",
    "    df = pd.read_csv(path)\n",
    "    df_1 = df[[\"area\",\"price\"]]\n",
    "    df_1.rename({\"price\":\"y\",\"area\":\"x\"},axis = 1,inplace = True)\n",
    "    df_1 = df_1[:20]\n",
    "    x_mean = round(np.mean(df_1['x']))\n",
    "    x_std = round(np.std(df_1['x']))\n",
    "    y_mean = round(np.mean(df_1['y']))\n",
    "    y_std = round(np.std(df_1['y']))\n",
    "    cov_mat = np.stack((df_1[\"x\"], df_1[\"y\"]), axis = 0) \n",
    "    covariance_x_y = np.cov(cov_mat)\n",
    "    covariance_x_y = covariance_x_y[0][1]\n",
    "    slop_a = (covariance_x_y)/(x_std**2)   #(covariance/variance of x)\n",
    "    intercept_b = y_mean-(slop_a*x_mean)\n",
    "    y = (slop_a*7420)+intercept_b     # best function\n",
    "    return y\n"
   ]
  },
  {
   "cell_type": "code",
   "execution_count": 130,
   "id": "c599d96b",
   "metadata": {},
   "outputs": [
    {
     "data": {
      "text/plain": [
       "10172596.750358507"
      ]
     },
     "execution_count": 130,
     "metadata": {},
     "output_type": "execute_result"
    }
   ],
   "source": [
    "optimization1(\"/Users/amani/Downloads/Housing.csv\")"
   ]
  },
  {
   "cell_type": "code",
   "execution_count": null,
   "id": "8d815112",
   "metadata": {},
   "outputs": [],
   "source": []
  },
  {
   "cell_type": "code",
   "execution_count": null,
   "id": "1c4c8d4c",
   "metadata": {},
   "outputs": [],
   "source": []
  },
  {
   "cell_type": "code",
   "execution_count": null,
   "id": "97bc495b",
   "metadata": {},
   "outputs": [],
   "source": []
  },
  {
   "cell_type": "code",
   "execution_count": null,
   "id": "d9d649f0",
   "metadata": {},
   "outputs": [],
   "source": []
  },
  {
   "cell_type": "code",
   "execution_count": null,
   "id": "a9b97de1",
   "metadata": {},
   "outputs": [],
   "source": []
  },
  {
   "cell_type": "code",
   "execution_count": null,
   "id": "932b28ae",
   "metadata": {},
   "outputs": [],
   "source": []
  },
  {
   "cell_type": "code",
   "execution_count": null,
   "id": "d5219282",
   "metadata": {},
   "outputs": [],
   "source": []
  },
  {
   "cell_type": "code",
   "execution_count": null,
   "id": "455aeb1b",
   "metadata": {},
   "outputs": [],
   "source": []
  },
  {
   "cell_type": "code",
   "execution_count": null,
   "id": "990dfe4c",
   "metadata": {},
   "outputs": [],
   "source": []
  },
  {
   "cell_type": "code",
   "execution_count": null,
   "id": "0b675dae",
   "metadata": {},
   "outputs": [],
   "source": []
  },
  {
   "cell_type": "code",
   "execution_count": null,
   "id": "5aa540db",
   "metadata": {},
   "outputs": [],
   "source": []
  }
 ],
 "metadata": {
  "kernelspec": {
   "display_name": "Python 3 (ipykernel)",
   "language": "python",
   "name": "python3"
  },
  "language_info": {
   "codemirror_mode": {
    "name": "ipython",
    "version": 3
   },
   "file_extension": ".py",
   "mimetype": "text/x-python",
   "name": "python",
   "nbconvert_exporter": "python",
   "pygments_lexer": "ipython3",
   "version": "3.11.5"
  }
 },
 "nbformat": 4,
 "nbformat_minor": 5
}
