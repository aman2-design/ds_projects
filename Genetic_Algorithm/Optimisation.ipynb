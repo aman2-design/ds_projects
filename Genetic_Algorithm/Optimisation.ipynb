{
 "cells": [
  {
   "cell_type": "raw",
   "id": "97f7d58a",
   "metadata": {},
   "source": [
    "Requirement:to call an csv file to get the data consisting of one independent and one dependent variable and with that we have to find an optimised function."
   ]
  },
  {
   "cell_type": "code",
   "execution_count": null,
   "id": "30c65708",
   "metadata": {},
   "outputs": [],
   "source": [
    "import pandas as pd\n",
    "import numpy as np\n",
    "import seaborn as sns\n",
    "import warnings\n",
    "warnings.filterwarnings(\"ignore\")"
   ]
  },
  {
   "cell_type": "code",
   "execution_count": null,
   "id": "6bc8f7fa",
   "metadata": {},
   "outputs": [],
   "source": [
    "# taking a simple house price dataset downloaded from kaggle\n",
    "\n",
    "df = pd.read_csv(r\"/Users/amani/Downloads/Housing.csv\")"
   ]
  },
  {
   "cell_type": "code",
   "execution_count": null,
   "id": "f9609ac1",
   "metadata": {},
   "outputs": [],
   "source": [
    "df.head()"
   ]
  },
  {
   "cell_type": "code",
   "execution_count": null,
   "id": "3df382bc",
   "metadata": {},
   "outputs": [],
   "source": [
    "df_1 = df[[\"area\",\"price\"]]\n",
    "df_1.rename({\"price\":\"y\",\"area\":\"x\"},axis = 1,inplace = True)"
   ]
  },
  {
   "cell_type": "code",
   "execution_count": null,
   "id": "ea31ea9e",
   "metadata": {},
   "outputs": [],
   "source": [
    "df_1    # area is independent variable(x) and price is dependent variable(y)"
   ]
  },
  {
   "cell_type": "code",
   "execution_count": null,
   "id": "aa22a9ec",
   "metadata": {},
   "outputs": [],
   "source": [
    "# For simplification lets take only first 20 data\n",
    "df_1 = df_1[:20]"
   ]
  },
  {
   "cell_type": "code",
   "execution_count": null,
   "id": "523e0c44",
   "metadata": {},
   "outputs": [],
   "source": [
    "df_1.shape"
   ]
  },
  {
   "cell_type": "code",
   "execution_count": null,
   "id": "1c72b57b",
   "metadata": {},
   "outputs": [],
   "source": [
    "sns.lineplot(data = df_1,x = \"x\",y = \"y\")"
   ]
  },
  {
   "cell_type": "code",
   "execution_count": null,
   "id": "12ed90ab",
   "metadata": {},
   "outputs": [],
   "source": [
    "sns.scatterplot(data = df_1,x = \"x\",y = \"y\")"
   ]
  },
  {
   "cell_type": "code",
   "execution_count": null,
   "id": "ce0a73c3",
   "metadata": {},
   "outputs": [],
   "source": [
    "x_mean = round(np.mean(df_1['x']))\n",
    "x_std = round(np.std(df_1['x']))\n",
    "y_mean = round(np.mean(df_1['y']))\n",
    "y_std = round(np.std(df_1['y']))"
   ]
  },
  {
   "cell_type": "code",
   "execution_count": null,
   "id": "e8de53a2",
   "metadata": {},
   "outputs": [],
   "source": [
    "x_mean,x_std,y_mean,y_std"
   ]
  },
  {
   "cell_type": "markdown",
   "id": "8845fc8a",
   "metadata": {},
   "source": [
    "# Scaling"
   ]
  },
  {
   "cell_type": "code",
   "execution_count": null,
   "id": "10d7093a",
   "metadata": {},
   "outputs": [],
   "source": [
    "\n",
    "\n",
    "from sklearn.preprocessing import MinMaxScaler\n",
    "\n",
    "scaler = MinMaxScaler()\n",
    "\n",
    "scaler.fit(df_1)\n",
    "\n",
    "scaled_data = scaler.transform(df_1)\n",
    "\n",
    "scaled_data"
   ]
  },
  {
   "cell_type": "markdown",
   "id": "9fbb42d1",
   "metadata": {},
   "source": [
    "# Optimization 1"
   ]
  },
  {
   "cell_type": "code",
   "execution_count": null,
   "id": "e82a1c79",
   "metadata": {},
   "outputs": [],
   "source": [
    "# Gradient descent technique for perfect optimisation "
   ]
  },
  {
   "cell_type": "code",
   "execution_count": null,
   "id": "3b184be8",
   "metadata": {},
   "outputs": [],
   "source": [
    "#our equation y_pred = mx+b\n",
    "# lets take mean square error = loss function---> (Y-(mx+b))^2/total data\n",
    "# in each intertaion wts(m) and intercept/bias(b) will be updated\n",
    "\n",
    "# m = wts\n",
    "\n",
    "def optimization(x,y):\n",
    "    \n",
    "    learning = 0.001\n",
    "    initial_m = 0.1\n",
    "    initial_b = 0.01\n",
    "    total_interation = 50\n",
    "    initial_loss = None\n",
    "    \n",
    "    \n",
    "    # storing in list to make plots\n",
    "    error = []\n",
    "    m = []\n",
    "\n",
    "\n",
    "    for i in range(0,total_interation):\n",
    "\n",
    "        y_pred = (initial_m * x) + initial_b    # our linear equation\n",
    "\n",
    "        loss = np.sum((y - y_pred)**2)/len(y)\n",
    "        \n",
    "        error.append(loss)\n",
    "        m.append(initial_m)\n",
    "\n",
    "        m_partial_derivative = (-2/n)*sum(x*(y-y_pred))\n",
    "        b_partial_derivative = (-2/n)*sum(y-y_pred)\n",
    "\n",
    "\n",
    "        # updation for optimised wt.\n",
    "\n",
    "        initial_m = (initial_m-(learning * m_partial_derivative)) # updating values as per noteboook screen shot shared\n",
    "        initial_b = (initial_b-(learning * b_partial_derivative))  # updating values as per noteboook screen shot shared\n",
    "        \n",
    "        print(\"Interation:\",i+1,\"Loss:\",loss,\",new_m:\",initial_m,\",new_b:\",initial_b)\n",
    "        \n",
    "    plt.plot(m,error)\n",
    "    plt.xlabel(\"m(weight)\")\n",
    "    plt.ylabel(\"loss\")\n",
    "        \n",
    "    return initial_m,initial_b\n"
   ]
  },
  {
   "cell_type": "code",
   "execution_count": null,
   "id": "5aba89a7",
   "metadata": {},
   "outputs": [],
   "source": [
    "x = scaled_data[:,0]\n",
    "y = scaled_data[:,1]\n"
   ]
  },
  {
   "cell_type": "code",
   "execution_count": null,
   "id": "7ccb1a15",
   "metadata": {},
   "outputs": [],
   "source": [
    "Final_m, Final_b = optimization(x, y)\n"
   ]
  },
  {
   "cell_type": "code",
   "execution_count": null,
   "id": "dbd1e04f",
   "metadata": {},
   "outputs": [],
   "source": [
    "print(\"Final_m:\",Final_m,\"Final_b:\",Final_b)"
   ]
  },
  {
   "cell_type": "code",
   "execution_count": null,
   "id": "0511fe0f",
   "metadata": {},
   "outputs": [],
   "source": [
    "# Final optimised values\n",
    "\n",
    "y_pred = Final_m*x + Final_b\n"
   ]
  },
  {
   "cell_type": "code",
   "execution_count": null,
   "id": "fa5e8fef",
   "metadata": {},
   "outputs": [],
   "source": [
    "Final_b"
   ]
  },
  {
   "cell_type": "code",
   "execution_count": null,
   "id": "5887e9b4",
   "metadata": {},
   "outputs": [],
   "source": [
    "y_pred"
   ]
  },
  {
   "cell_type": "code",
   "execution_count": null,
   "id": "bf6cafdf",
   "metadata": {},
   "outputs": [],
   "source": [
    "plt.scatter(x, y, marker='o', color='red')\n",
    "\n",
    "plt.plot([min(x), max(x)], [min(y_pred), max(y_pred)],linestyle='dashed')\n",
    "\n",
    "plt.xlabel(\"x\")\n",
    "plt.ylabel(\"y\")\n",
    "plt.title(\"Regression line\")\n"
   ]
  },
  {
   "cell_type": "code",
   "execution_count": null,
   "id": "23714d19",
   "metadata": {},
   "outputs": [],
   "source": [
    "min(x), max(x),min(y_pred), max(y_pred)"
   ]
  },
  {
   "cell_type": "code",
   "execution_count": null,
   "id": "e938d903",
   "metadata": {},
   "outputs": [],
   "source": []
  },
  {
   "cell_type": "markdown",
   "id": "e0ea15c3",
   "metadata": {},
   "source": [
    "# Optimization 2 (Linear Assumption)"
   ]
  },
  {
   "cell_type": "code",
   "execution_count": null,
   "id": "523479f0",
   "metadata": {},
   "outputs": [],
   "source": [
    "# Generally for optimisation between one independet and one dependent variable linear regression analysis used:::\n",
    "# Assumption to be a linear function ---> y = ax+b\n",
    "\n",
    "# As we can see here for some values of x there is some values of y.\n",
    "# Finding a function in which while putting value of x , value of y should come(approx)\n",
    "\n",
    "\n",
    "\n",
    "# x_mean,x_std,y_mean,y_std\n",
    "\n",
    "# slop_a = (covariance(x,y))/(x_std**2)\n",
    "# intercept_b = mean_y-slop_a(mean_x)\n"
   ]
  },
  {
   "cell_type": "code",
   "execution_count": null,
   "id": "e78f031f",
   "metadata": {},
   "outputs": [],
   "source": [
    "# Finding Covariance\n",
    "\n",
    "cov_mat = np.stack((df_1[\"x\"], df_1[\"y\"]), axis = 0) \n",
    "covariance_x_y = np.cov(cov_mat)\n",
    "print(covariance_x_y)\n"
   ]
  },
  {
   "cell_type": "code",
   "execution_count": null,
   "id": "1c6fc8e9",
   "metadata": {},
   "outputs": [],
   "source": [
    "covariance_x_y[0][1]"
   ]
  },
  {
   "cell_type": "code",
   "execution_count": null,
   "id": "36b1dfe0",
   "metadata": {},
   "outputs": [],
   "source": [
    "slop_a = covariance_x_y[0][1]/(x_std**2)\n",
    "slop_a"
   ]
  },
  {
   "cell_type": "code",
   "execution_count": null,
   "id": "869d6854",
   "metadata": {},
   "outputs": [],
   "source": [
    "intercept_b = y_mean-(slop_a*x_mean)\n",
    "intercept_b"
   ]
  },
  {
   "cell_type": "code",
   "execution_count": null,
   "id": "c6fd7153",
   "metadata": {},
   "outputs": [],
   "source": [
    "#y = ax+b(Best function values)\n",
    "\n",
    "y = (slop_a*7420)+intercept_b\n",
    "y   # y original = 13300000"
   ]
  },
  {
   "cell_type": "markdown",
   "id": "08612c4d",
   "metadata": {},
   "source": [
    "# Function for optimization 2"
   ]
  },
  {
   "cell_type": "code",
   "execution_count": null,
   "id": "39f08ab5",
   "metadata": {},
   "outputs": [],
   "source": [
    "# Function to get first value of y by giving x=7420,we can make this function to calculate for whole and \n",
    "# calculate total loss\n",
    "\n",
    "# relationship assumption to be linear.\n",
    "\n",
    "# some formulae refer from net\n",
    "\n",
    "def optimization1(path):\n",
    "    df = pd.read_csv(path)\n",
    "    df_1 = df[[\"area\",\"price\"]]\n",
    "    df_1.rename({\"price\":\"y\",\"area\":\"x\"},axis = 1,inplace = True)\n",
    "    df_1 = df_1[:20]\n",
    "    x_mean = round(np.mean(df_1['x']))\n",
    "    x_std = round(np.std(df_1['x']))\n",
    "    y_mean = round(np.mean(df_1['y']))\n",
    "    y_std = round(np.std(df_1['y']))\n",
    "    cov_mat = np.stack((df_1[\"x\"], df_1[\"y\"]), axis = 0) \n",
    "    covariance_x_y = np.cov(cov_mat)\n",
    "    covariance_x_y = covariance_x_y[0][1]\n",
    "    slop_a = (covariance_x_y)/(x_std**2)   #(covariance/variance of x)\n",
    "    intercept_b = y_mean-(slop_a*x_mean)\n",
    "    y = (slop_a*7420)+intercept_b     # best function\n",
    "    return y\n"
   ]
  },
  {
   "cell_type": "code",
   "execution_count": null,
   "id": "c599d96b",
   "metadata": {},
   "outputs": [],
   "source": [
    "optimization1(\"/Users/amani/Downloads/Housing.csv\")"
   ]
  },
  {
   "cell_type": "code",
   "execution_count": null,
   "id": "8d815112",
   "metadata": {},
   "outputs": [],
   "source": []
  },
  {
   "cell_type": "code",
   "execution_count": null,
   "id": "1c4c8d4c",
   "metadata": {},
   "outputs": [],
   "source": []
  },
  {
   "cell_type": "code",
   "execution_count": null,
   "id": "97bc495b",
   "metadata": {},
   "outputs": [],
   "source": []
  },
  {
   "cell_type": "code",
   "execution_count": null,
   "id": "d9d649f0",
   "metadata": {},
   "outputs": [],
   "source": []
  },
  {
   "cell_type": "code",
   "execution_count": null,
   "id": "a9b97de1",
   "metadata": {},
   "outputs": [],
   "source": []
  },
  {
   "cell_type": "code",
   "execution_count": null,
   "id": "932b28ae",
   "metadata": {},
   "outputs": [],
   "source": []
  },
  {
   "cell_type": "code",
   "execution_count": null,
   "id": "d5219282",
   "metadata": {},
   "outputs": [],
   "source": []
  },
  {
   "cell_type": "code",
   "execution_count": null,
   "id": "455aeb1b",
   "metadata": {},
   "outputs": [],
   "source": []
  },
  {
   "cell_type": "code",
   "execution_count": null,
   "id": "990dfe4c",
   "metadata": {},
   "outputs": [],
   "source": []
  },
  {
   "cell_type": "code",
   "execution_count": null,
   "id": "0b675dae",
   "metadata": {},
   "outputs": [],
   "source": []
  },
  {
   "cell_type": "code",
   "execution_count": null,
   "id": "5aa540db",
   "metadata": {},
   "outputs": [],
   "source": []
  },
  {
   "cell_type": "code",
   "execution_count": null,
   "id": "ce780784-136a-484a-8413-cc068b8b7d23",
   "metadata": {},
   "outputs": [],
   "source": []
  },
  {
   "cell_type": "code",
   "execution_count": null,
   "id": "e1214c5a-f7fb-40d3-b925-95269357f836",
   "metadata": {},
   "outputs": [],
   "source": []
  },
  {
   "cell_type": "code",
   "execution_count": null,
   "id": "c11adafa-1bbe-456e-865d-ba270da9cc55",
   "metadata": {},
   "outputs": [],
   "source": []
  },
  {
   "cell_type": "code",
   "execution_count": null,
   "id": "bb793f73-8fbf-478e-b9fc-10cc0e414a7a",
   "metadata": {},
   "outputs": [],
   "source": []
  },
  {
   "cell_type": "code",
   "execution_count": null,
   "id": "80d94625-f9c8-4d2b-96f3-2381e97f65aa",
   "metadata": {},
   "outputs": [],
   "source": []
  },
  {
   "cell_type": "code",
   "execution_count": null,
   "id": "588bcc2a-0557-4529-8f8b-4a68d82173fd",
   "metadata": {},
   "outputs": [],
   "source": []
  },
  {
   "cell_type": "code",
   "execution_count": null,
   "id": "b87ade51-20e2-40f2-b678-3acb1b25af6b",
   "metadata": {},
   "outputs": [],
   "source": []
  },
  {
   "cell_type": "code",
   "execution_count": null,
   "id": "b582989a-65f8-4de7-9d43-06519f8cefde",
   "metadata": {},
   "outputs": [],
   "source": []
  }
 ],
 "metadata": {
  "kernelspec": {
   "display_name": "Python 3 (ipykernel)",
   "language": "python",
   "name": "python3"
  },
  "language_info": {
   "codemirror_mode": {
    "name": "ipython",
    "version": 3
   },
   "file_extension": ".py",
   "mimetype": "text/x-python",
   "name": "python",
   "nbconvert_exporter": "python",
   "pygments_lexer": "ipython3",
   "version": "3.11.5"
  }
 },
 "nbformat": 4,
 "nbformat_minor": 5
}
