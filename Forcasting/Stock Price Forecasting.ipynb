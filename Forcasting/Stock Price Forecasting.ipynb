{
 "cells": [
  {
   "cell_type": "code",
   "execution_count": 161,
   "id": "9f75d8e2",
   "metadata": {},
   "outputs": [],
   "source": [
    "import pandas as pd\n",
    "import numpy as np\n",
    "import matplotlib.pyplot as plt\n",
    "from matplotlib.pylab import rcParams\n",
    "rcParams['figure.figsize'] = 10,5\n",
    "from datetime import date\n",
    "import datetime as dt\n",
    "import seaborn as sns\n",
    "import warnings\n",
    "warnings.filterwarnings(\"ignore\")"
   ]
  },
  {
   "cell_type": "markdown",
   "id": "e97e50c2",
   "metadata": {},
   "source": [
    "# Data Processing"
   ]
  },
  {
   "cell_type": "code",
   "execution_count": 91,
   "id": "73bceb3d",
   "metadata": {},
   "outputs": [],
   "source": [
    "data = pd.read_csv(r\"C:\\Users\\amani\\Downloads\\HDFC.csv\")"
   ]
  },
  {
   "cell_type": "code",
   "execution_count": 92,
   "id": "2e4a654a",
   "metadata": {},
   "outputs": [
    {
     "data": {
      "text/html": [
       "<div>\n",
       "<style scoped>\n",
       "    .dataframe tbody tr th:only-of-type {\n",
       "        vertical-align: middle;\n",
       "    }\n",
       "\n",
       "    .dataframe tbody tr th {\n",
       "        vertical-align: top;\n",
       "    }\n",
       "\n",
       "    .dataframe thead th {\n",
       "        text-align: right;\n",
       "    }\n",
       "</style>\n",
       "<table border=\"1\" class=\"dataframe\">\n",
       "  <thead>\n",
       "    <tr style=\"text-align: right;\">\n",
       "      <th></th>\n",
       "      <th>Date</th>\n",
       "      <th>Symbol</th>\n",
       "      <th>Series</th>\n",
       "      <th>Prev Close</th>\n",
       "      <th>Open</th>\n",
       "      <th>High</th>\n",
       "      <th>Low</th>\n",
       "      <th>Last</th>\n",
       "      <th>Close</th>\n",
       "      <th>VWAP</th>\n",
       "      <th>Volume</th>\n",
       "      <th>Turnover</th>\n",
       "      <th>Trades</th>\n",
       "      <th>Deliverable Volume</th>\n",
       "      <th>%Deliverble</th>\n",
       "    </tr>\n",
       "  </thead>\n",
       "  <tbody>\n",
       "    <tr>\n",
       "      <th>0</th>\n",
       "      <td>2000-01-03</td>\n",
       "      <td>HDFC</td>\n",
       "      <td>EQ</td>\n",
       "      <td>271.75</td>\n",
       "      <td>293.5</td>\n",
       "      <td>293.5</td>\n",
       "      <td>293.5</td>\n",
       "      <td>293.5</td>\n",
       "      <td>293.50</td>\n",
       "      <td>293.50</td>\n",
       "      <td>22744</td>\n",
       "      <td>6.675364e+11</td>\n",
       "      <td>NaN</td>\n",
       "      <td>NaN</td>\n",
       "      <td>NaN</td>\n",
       "    </tr>\n",
       "    <tr>\n",
       "      <th>1</th>\n",
       "      <td>2000-01-04</td>\n",
       "      <td>HDFC</td>\n",
       "      <td>EQ</td>\n",
       "      <td>293.50</td>\n",
       "      <td>317.0</td>\n",
       "      <td>317.0</td>\n",
       "      <td>297.0</td>\n",
       "      <td>304.0</td>\n",
       "      <td>304.05</td>\n",
       "      <td>303.62</td>\n",
       "      <td>255251</td>\n",
       "      <td>7.749972e+12</td>\n",
       "      <td>NaN</td>\n",
       "      <td>NaN</td>\n",
       "      <td>NaN</td>\n",
       "    </tr>\n",
       "    <tr>\n",
       "      <th>2</th>\n",
       "      <td>2000-01-05</td>\n",
       "      <td>HDFC</td>\n",
       "      <td>EQ</td>\n",
       "      <td>304.05</td>\n",
       "      <td>290.0</td>\n",
       "      <td>303.9</td>\n",
       "      <td>285.0</td>\n",
       "      <td>295.0</td>\n",
       "      <td>292.80</td>\n",
       "      <td>294.53</td>\n",
       "      <td>269087</td>\n",
       "      <td>7.925368e+12</td>\n",
       "      <td>NaN</td>\n",
       "      <td>NaN</td>\n",
       "      <td>NaN</td>\n",
       "    </tr>\n",
       "  </tbody>\n",
       "</table>\n",
       "</div>"
      ],
      "text/plain": [
       "         Date Symbol Series  Prev Close   Open   High    Low   Last   Close  \\\n",
       "0  2000-01-03   HDFC     EQ      271.75  293.5  293.5  293.5  293.5  293.50   \n",
       "1  2000-01-04   HDFC     EQ      293.50  317.0  317.0  297.0  304.0  304.05   \n",
       "2  2000-01-05   HDFC     EQ      304.05  290.0  303.9  285.0  295.0  292.80   \n",
       "\n",
       "     VWAP  Volume      Turnover  Trades  Deliverable Volume  %Deliverble  \n",
       "0  293.50   22744  6.675364e+11     NaN                 NaN          NaN  \n",
       "1  303.62  255251  7.749972e+12     NaN                 NaN          NaN  \n",
       "2  294.53  269087  7.925368e+12     NaN                 NaN          NaN  "
      ]
     },
     "execution_count": 92,
     "metadata": {},
     "output_type": "execute_result"
    }
   ],
   "source": [
    "data.head(3)"
   ]
  },
  {
   "cell_type": "code",
   "execution_count": 93,
   "id": "3787979a",
   "metadata": {},
   "outputs": [
    {
     "name": "stdout",
     "output_type": "stream",
     "text": [
      "<class 'pandas.core.frame.DataFrame'>\n",
      "RangeIndex: 5306 entries, 0 to 5305\n",
      "Data columns (total 15 columns):\n",
      " #   Column              Non-Null Count  Dtype  \n",
      "---  ------              --------------  -----  \n",
      " 0   Date                5306 non-null   object \n",
      " 1   Symbol              5306 non-null   object \n",
      " 2   Series              5306 non-null   object \n",
      " 3   Prev Close          5306 non-null   float64\n",
      " 4   Open                5306 non-null   float64\n",
      " 5   High                5306 non-null   float64\n",
      " 6   Low                 5306 non-null   float64\n",
      " 7   Last                5306 non-null   float64\n",
      " 8   Close               5306 non-null   float64\n",
      " 9   VWAP                5306 non-null   float64\n",
      " 10  Volume              5306 non-null   int64  \n",
      " 11  Turnover            5306 non-null   float64\n",
      " 12  Trades              2456 non-null   float64\n",
      " 13  Deliverable Volume  4797 non-null   float64\n",
      " 14  %Deliverble         4797 non-null   float64\n",
      "dtypes: float64(11), int64(1), object(3)\n",
      "memory usage: 621.9+ KB\n"
     ]
    }
   ],
   "source": [
    "data.info()"
   ]
  },
  {
   "cell_type": "code",
   "execution_count": 94,
   "id": "390e28ba",
   "metadata": {},
   "outputs": [],
   "source": [
    "data[\"Date\"] = pd.to_datetime(data[\"Date\"])"
   ]
  },
  {
   "cell_type": "code",
   "execution_count": 95,
   "id": "a3ce5b87",
   "metadata": {},
   "outputs": [
    {
     "data": {
      "text/plain": [
       "EQ    5306\n",
       "Name: Series, dtype: int64"
      ]
     },
     "execution_count": 95,
     "metadata": {},
     "output_type": "execute_result"
    }
   ],
   "source": [
    "data.Series.value_counts()"
   ]
  },
  {
   "cell_type": "code",
   "execution_count": 96,
   "id": "110a1869",
   "metadata": {},
   "outputs": [
    {
     "data": {
      "text/html": [
       "<div>\n",
       "<style scoped>\n",
       "    .dataframe tbody tr th:only-of-type {\n",
       "        vertical-align: middle;\n",
       "    }\n",
       "\n",
       "    .dataframe tbody tr th {\n",
       "        vertical-align: top;\n",
       "    }\n",
       "\n",
       "    .dataframe thead th {\n",
       "        text-align: right;\n",
       "    }\n",
       "</style>\n",
       "<table border=\"1\" class=\"dataframe\">\n",
       "  <thead>\n",
       "    <tr style=\"text-align: right;\">\n",
       "      <th></th>\n",
       "      <th>Date</th>\n",
       "      <th>Symbol</th>\n",
       "      <th>Series</th>\n",
       "      <th>Prev Close</th>\n",
       "      <th>Open</th>\n",
       "      <th>High</th>\n",
       "      <th>Low</th>\n",
       "      <th>Last</th>\n",
       "      <th>Close</th>\n",
       "      <th>VWAP</th>\n",
       "      <th>Volume</th>\n",
       "      <th>Turnover</th>\n",
       "      <th>Trades</th>\n",
       "      <th>Deliverable Volume</th>\n",
       "      <th>%Deliverble</th>\n",
       "    </tr>\n",
       "  </thead>\n",
       "  <tbody>\n",
       "    <tr>\n",
       "      <th>0</th>\n",
       "      <td>2000-01-03</td>\n",
       "      <td>HDFC</td>\n",
       "      <td>EQ</td>\n",
       "      <td>271.75</td>\n",
       "      <td>293.5</td>\n",
       "      <td>293.5</td>\n",
       "      <td>293.5</td>\n",
       "      <td>293.5</td>\n",
       "      <td>293.50</td>\n",
       "      <td>293.50</td>\n",
       "      <td>22744</td>\n",
       "      <td>6.675364e+11</td>\n",
       "      <td>NaN</td>\n",
       "      <td>NaN</td>\n",
       "      <td>NaN</td>\n",
       "    </tr>\n",
       "    <tr>\n",
       "      <th>1</th>\n",
       "      <td>2000-01-04</td>\n",
       "      <td>HDFC</td>\n",
       "      <td>EQ</td>\n",
       "      <td>293.50</td>\n",
       "      <td>317.0</td>\n",
       "      <td>317.0</td>\n",
       "      <td>297.0</td>\n",
       "      <td>304.0</td>\n",
       "      <td>304.05</td>\n",
       "      <td>303.62</td>\n",
       "      <td>255251</td>\n",
       "      <td>7.749972e+12</td>\n",
       "      <td>NaN</td>\n",
       "      <td>NaN</td>\n",
       "      <td>NaN</td>\n",
       "    </tr>\n",
       "    <tr>\n",
       "      <th>2</th>\n",
       "      <td>2000-01-05</td>\n",
       "      <td>HDFC</td>\n",
       "      <td>EQ</td>\n",
       "      <td>304.05</td>\n",
       "      <td>290.0</td>\n",
       "      <td>303.9</td>\n",
       "      <td>285.0</td>\n",
       "      <td>295.0</td>\n",
       "      <td>292.80</td>\n",
       "      <td>294.53</td>\n",
       "      <td>269087</td>\n",
       "      <td>7.925368e+12</td>\n",
       "      <td>NaN</td>\n",
       "      <td>NaN</td>\n",
       "      <td>NaN</td>\n",
       "    </tr>\n",
       "  </tbody>\n",
       "</table>\n",
       "</div>"
      ],
      "text/plain": [
       "        Date Symbol Series  Prev Close   Open   High    Low   Last   Close  \\\n",
       "0 2000-01-03   HDFC     EQ      271.75  293.5  293.5  293.5  293.5  293.50   \n",
       "1 2000-01-04   HDFC     EQ      293.50  317.0  317.0  297.0  304.0  304.05   \n",
       "2 2000-01-05   HDFC     EQ      304.05  290.0  303.9  285.0  295.0  292.80   \n",
       "\n",
       "     VWAP  Volume      Turnover  Trades  Deliverable Volume  %Deliverble  \n",
       "0  293.50   22744  6.675364e+11     NaN                 NaN          NaN  \n",
       "1  303.62  255251  7.749972e+12     NaN                 NaN          NaN  \n",
       "2  294.53  269087  7.925368e+12     NaN                 NaN          NaN  "
      ]
     },
     "execution_count": 96,
     "metadata": {},
     "output_type": "execute_result"
    }
   ],
   "source": [
    "data.head(3)"
   ]
  },
  {
   "cell_type": "code",
   "execution_count": 97,
   "id": "281b4f37",
   "metadata": {},
   "outputs": [],
   "source": [
    "# as forecasting depends on time and open value, we will take that into consideration\n",
    "\n",
    "data1 = data[[\"Date\",\"Open\"]]"
   ]
  },
  {
   "cell_type": "code",
   "execution_count": 98,
   "id": "5df89ae0",
   "metadata": {},
   "outputs": [
    {
     "name": "stdout",
     "output_type": "stream",
     "text": [
      "<class 'pandas.core.frame.DataFrame'>\n",
      "RangeIndex: 5306 entries, 0 to 5305\n",
      "Data columns (total 2 columns):\n",
      " #   Column  Non-Null Count  Dtype         \n",
      "---  ------  --------------  -----         \n",
      " 0   Date    5306 non-null   datetime64[ns]\n",
      " 1   Open    5306 non-null   float64       \n",
      "dtypes: datetime64[ns](1), float64(1)\n",
      "memory usage: 83.0 KB\n"
     ]
    }
   ],
   "source": [
    "data1.info()"
   ]
  },
  {
   "cell_type": "code",
   "execution_count": 99,
   "id": "af22911f",
   "metadata": {},
   "outputs": [
    {
     "data": {
      "text/plain": [
       "Date    0\n",
       "Open    0\n",
       "dtype: int64"
      ]
     },
     "execution_count": 99,
     "metadata": {},
     "output_type": "execute_result"
    }
   ],
   "source": [
    "data1.isnull().sum()"
   ]
  },
  {
   "cell_type": "code",
   "execution_count": 100,
   "id": "23dad930",
   "metadata": {},
   "outputs": [
    {
     "data": {
      "text/html": [
       "<div>\n",
       "<style scoped>\n",
       "    .dataframe tbody tr th:only-of-type {\n",
       "        vertical-align: middle;\n",
       "    }\n",
       "\n",
       "    .dataframe tbody tr th {\n",
       "        vertical-align: top;\n",
       "    }\n",
       "\n",
       "    .dataframe thead th {\n",
       "        text-align: right;\n",
       "    }\n",
       "</style>\n",
       "<table border=\"1\" class=\"dataframe\">\n",
       "  <thead>\n",
       "    <tr style=\"text-align: right;\">\n",
       "      <th></th>\n",
       "      <th>Date</th>\n",
       "      <th>Open</th>\n",
       "    </tr>\n",
       "  </thead>\n",
       "  <tbody>\n",
       "    <tr>\n",
       "      <th>0</th>\n",
       "      <td>2000-01-03</td>\n",
       "      <td>293.5</td>\n",
       "    </tr>\n",
       "    <tr>\n",
       "      <th>1</th>\n",
       "      <td>2000-01-04</td>\n",
       "      <td>317.0</td>\n",
       "    </tr>\n",
       "    <tr>\n",
       "      <th>2</th>\n",
       "      <td>2000-01-05</td>\n",
       "      <td>290.0</td>\n",
       "    </tr>\n",
       "  </tbody>\n",
       "</table>\n",
       "</div>"
      ],
      "text/plain": [
       "        Date   Open\n",
       "0 2000-01-03  293.5\n",
       "1 2000-01-04  317.0\n",
       "2 2000-01-05  290.0"
      ]
     },
     "execution_count": 100,
     "metadata": {},
     "output_type": "execute_result"
    }
   ],
   "source": [
    "data1.head(3)"
   ]
  },
  {
   "cell_type": "code",
   "execution_count": 101,
   "id": "14ce7ed8",
   "metadata": {},
   "outputs": [
    {
     "data": {
      "text/plain": [
       "(Timestamp('2000-01-03 00:00:00'), Timestamp('2021-04-30 00:00:00'))"
      ]
     },
     "execution_count": 101,
     "metadata": {},
     "output_type": "execute_result"
    }
   ],
   "source": [
    "data1[\"Date\"].min(),data1[\"Date\"].max()"
   ]
  },
  {
   "cell_type": "code",
   "execution_count": 102,
   "id": "00fdf874",
   "metadata": {},
   "outputs": [
    {
     "data": {
      "text/plain": [
       "(5306, 2)"
      ]
     },
     "execution_count": 102,
     "metadata": {},
     "output_type": "execute_result"
    }
   ],
   "source": [
    "data1.shape"
   ]
  },
  {
   "cell_type": "code",
   "execution_count": 103,
   "id": "c37168cd",
   "metadata": {},
   "outputs": [
    {
     "data": {
      "text/plain": [
       "Index(['Date', 'Open'], dtype='object')"
      ]
     },
     "execution_count": 103,
     "metadata": {},
     "output_type": "execute_result"
    }
   ],
   "source": [
    "data1.columns"
   ]
  },
  {
   "cell_type": "code",
   "execution_count": 104,
   "id": "1a335f80",
   "metadata": {},
   "outputs": [],
   "source": [
    "data1 = data1.set_index([\"Date\"])"
   ]
  },
  {
   "cell_type": "code",
   "execution_count": 105,
   "id": "bd6d5ab7",
   "metadata": {},
   "outputs": [
    {
     "data": {
      "text/html": [
       "<div>\n",
       "<style scoped>\n",
       "    .dataframe tbody tr th:only-of-type {\n",
       "        vertical-align: middle;\n",
       "    }\n",
       "\n",
       "    .dataframe tbody tr th {\n",
       "        vertical-align: top;\n",
       "    }\n",
       "\n",
       "    .dataframe thead th {\n",
       "        text-align: right;\n",
       "    }\n",
       "</style>\n",
       "<table border=\"1\" class=\"dataframe\">\n",
       "  <thead>\n",
       "    <tr style=\"text-align: right;\">\n",
       "      <th></th>\n",
       "      <th>Open</th>\n",
       "    </tr>\n",
       "    <tr>\n",
       "      <th>Date</th>\n",
       "      <th></th>\n",
       "    </tr>\n",
       "  </thead>\n",
       "  <tbody>\n",
       "    <tr>\n",
       "      <th>2000-01-03</th>\n",
       "      <td>293.5</td>\n",
       "    </tr>\n",
       "    <tr>\n",
       "      <th>2000-01-04</th>\n",
       "      <td>317.0</td>\n",
       "    </tr>\n",
       "    <tr>\n",
       "      <th>2000-01-05</th>\n",
       "      <td>290.0</td>\n",
       "    </tr>\n",
       "    <tr>\n",
       "      <th>2000-01-06</th>\n",
       "      <td>301.0</td>\n",
       "    </tr>\n",
       "    <tr>\n",
       "      <th>2000-01-07</th>\n",
       "      <td>290.0</td>\n",
       "    </tr>\n",
       "  </tbody>\n",
       "</table>\n",
       "</div>"
      ],
      "text/plain": [
       "             Open\n",
       "Date             \n",
       "2000-01-03  293.5\n",
       "2000-01-04  317.0\n",
       "2000-01-05  290.0\n",
       "2000-01-06  301.0\n",
       "2000-01-07  290.0"
      ]
     },
     "execution_count": 105,
     "metadata": {},
     "output_type": "execute_result"
    }
   ],
   "source": [
    "data1.head()"
   ]
  },
  {
   "cell_type": "markdown",
   "id": "c497997e",
   "metadata": {},
   "source": [
    "# To check and proof that data is not stationary"
   ]
  },
  {
   "cell_type": "markdown",
   "id": "27f73e96",
   "metadata": {},
   "source": [
    "### First Approach-Rolling Window"
   ]
  },
  {
   "cell_type": "code",
   "execution_count": 163,
   "id": "92bd370c",
   "metadata": {},
   "outputs": [
    {
     "data": {
      "text/plain": [
       "[<matplotlib.lines.Line2D at 0x2018b2fb850>]"
      ]
     },
     "execution_count": 163,
     "metadata": {},
     "output_type": "execute_result"
    },
    {
     "data": {
      "image/png": "[encoded data removed]",
      "text/plain": [
       "<Figure size 1000x500 with 1 Axes>"
      ]
     },
     "metadata": {},
     "output_type": "display_data"
    }
   ],
   "source": [
    "plt.plot(data1)"
   ]
  },
  {
   "cell_type": "code",
   "execution_count": 164,
   "id": "43a214af",
   "metadata": {},
   "outputs": [],
   "source": [
    "#rolling is used to make trend stationary so that time series process can be applied\n",
    "\n",
    "rolling_mean = data1.rolling(window = 500).mean()\n",
    "rolling_std = data1.rolling(window = 500).std()"
   ]
  },
  {
   "cell_type": "code",
   "execution_count": 165,
   "id": "0bfe645b",
   "metadata": {},
   "outputs": [
    {
     "data": {
      "text/plain": [
       "Open    499\n",
       "dtype: int64"
      ]
     },
     "execution_count": 165,
     "metadata": {},
     "output_type": "execute_result"
    }
   ],
   "source": [
    "rolling_mean.isnull().sum()"
   ]
  },
  {
   "cell_type": "code",
   "execution_count": 179,
   "id": "6d61f979",
   "metadata": {},
   "outputs": [
    {
     "data": {
      "text/plain": [
       "<matplotlib.legend.Legend at 0x2018f3c4910>"
      ]
     },
     "execution_count": 179,
     "metadata": {},
     "output_type": "execute_result"
    },
    {
     "data": {
      "image/png": "[encoded data removed]",
      "text/plain": [
       "<Figure size 1000x500 with 1 Axes>"
      ]
     },
     "metadata": {},
     "output_type": "display_data"
    }
   ],
   "source": [
    "# plotting original and rolling data together to check for stationary\n",
    "\n",
    "plt.plot(data1,color='blue',label=\"Original\")\n",
    "plt.plot(rolling_mean,color='green',label=\"mean\")\n",
    "plt.plot(rolling_std,color='orange',label=\"std\")\n",
    "plt.legend(loc = 'best')"
   ]
  },
  {
   "cell_type": "markdown",
   "id": "ff5c31db",
   "metadata": {},
   "source": [
    "It can be visible that original data is not stationary"
   ]
  },
  {
   "cell_type": "code",
   "execution_count": null,
   "id": "096d1081",
   "metadata": {},
   "outputs": [],
   "source": []
  }
 ],
 "metadata": {
  "kernelspec": {
   "display_name": "Python 3 (ipykernel)",
   "language": "python",
   "name": "python3"
  },
  "language_info": {
   "codemirror_mode": {
    "name": "ipython",
    "version": 3
   },
   "file_extension": ".py",
   "mimetype": "text/x-python",
   "name": "python",
   "nbconvert_exporter": "python",
   "pygments_lexer": "ipython3",
   "version": "3.12.4"
  }
 },
 "nbformat": 4,
 "nbformat_minor": 5
}
