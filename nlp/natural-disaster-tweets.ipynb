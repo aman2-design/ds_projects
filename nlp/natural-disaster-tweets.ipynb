{
 "cells": [
  {
   "cell_type": "code",
   "execution_count": 1,
   "metadata": {
    "execution": {
     "iopub.execute_input": "2021-03-22T06:48:38.497084Z",
     "iopub.status.busy": "2021-03-22T06:48:38.496388Z",
     "iopub.status.idle": "2021-03-22T06:48:38.502718Z",
     "shell.execute_reply": "2021-03-22T06:48:38.502021Z"
    },
    "papermill": {
     "duration": 0.031388,
     "end_time": "2021-03-22T06:48:38.502984",
     "exception": false,
     "start_time": "2021-03-22T06:48:38.471596",
     "status": "completed"
    },
    "tags": []
   },
   "outputs": [
    {
     "name": "stdout",
     "output_type": "stream",
     "text": [
      "/kaggle/input/nlp-getting-started/sample_submission.csv\n",
      "/kaggle/input/nlp-getting-started/train.csv\n",
      "/kaggle/input/nlp-getting-started/test.csv\n"
     ]
    }
   ],
   "source": [
    "import os\n",
    "for dirname, _, filenames in os.walk('/kaggle/input/'):\n",
    "    for filename in filenames:\n",
    "        print(os.path.join(dirname, filename))"
   ]
  },
  {
   "cell_type": "code",
   "execution_count": 2,
   "metadata": {
    "execution": {
     "iopub.execute_input": "2021-03-22T06:48:38.545581Z",
     "iopub.status.busy": "2021-03-22T06:48:38.544815Z",
     "iopub.status.idle": "2021-03-22T06:48:38.548242Z",
     "shell.execute_reply": "2021-03-22T06:48:38.547545Z"
    },
    "papermill": {
     "duration": 0.026228,
     "end_time": "2021-03-22T06:48:38.548395",
     "exception": false,
     "start_time": "2021-03-22T06:48:38.522167",
     "status": "completed"
    },
    "tags": []
   },
   "outputs": [],
   "source": [
    "import numpy as np\n",
    "import pandas as pd"
   ]
  },
  {
   "cell_type": "code",
   "execution_count": 3,
   "metadata": {
    "execution": {
     "iopub.execute_input": "2021-03-22T06:48:38.591234Z",
     "iopub.status.busy": "2021-03-22T06:48:38.590542Z",
     "iopub.status.idle": "2021-03-22T06:48:38.667200Z",
     "shell.execute_reply": "2021-03-22T06:48:38.666234Z"
    },
    "papermill": {
     "duration": 0.100259,
     "end_time": "2021-03-22T06:48:38.667364",
     "exception": false,
     "start_time": "2021-03-22T06:48:38.567105",
     "status": "completed"
    },
    "tags": []
   },
   "outputs": [],
   "source": [
    "train_data = pd.read_csv(r\"/kaggle/input/nlp-getting-started/train.csv\")\n",
    "test_data = pd.read_csv(r\"/kaggle/input/nlp-getting-started/test.csv\")"
   ]
  },
  {
   "cell_type": "markdown",
   "metadata": {
    "papermill": {
     "duration": 0.018127,
     "end_time": "2021-03-22T06:48:38.704247",
     "exception": false,
     "start_time": "2021-03-22T06:48:38.686120",
     "status": "completed"
    },
    "tags": []
   },
   "source": [
    "# Preprocessing"
   ]
  },
  {
   "cell_type": "code",
   "execution_count": 4,
   "metadata": {
    "execution": {
     "iopub.execute_input": "2021-03-22T06:48:38.755987Z",
     "iopub.status.busy": "2021-03-22T06:48:38.754188Z",
     "iopub.status.idle": "2021-03-22T06:48:38.776143Z",
     "shell.execute_reply": "2021-03-22T06:48:38.775398Z"
    },
    "papermill": {
     "duration": 0.053555,
     "end_time": "2021-03-22T06:48:38.776300",
     "exception": false,
     "start_time": "2021-03-22T06:48:38.722745",
     "status": "completed"
    },
    "tags": []
   },
   "outputs": [
    {
     "data": {
      "text/html": [
       "<div>\n",
       "<style scoped>\n",
       "    .dataframe tbody tr th:only-of-type {\n",
       "        vertical-align: middle;\n",
       "    }\n",
       "\n",
       "    .dataframe tbody tr th {\n",
       "        vertical-align: top;\n",
       "    }\n",
       "\n",
       "    .dataframe thead th {\n",
       "        text-align: right;\n",
       "    }\n",
       "</style>\n",
       "<table border=\"1\" class=\"dataframe\">\n",
       "  <thead>\n",
       "    <tr style=\"text-align: right;\">\n",
       "      <th></th>\n",
       "      <th>id</th>\n",
       "      <th>keyword</th>\n",
       "      <th>location</th>\n",
       "      <th>text</th>\n",
       "      <th>target</th>\n",
       "    </tr>\n",
       "  </thead>\n",
       "  <tbody>\n",
       "    <tr>\n",
       "      <th>0</th>\n",
       "      <td>1</td>\n",
       "      <td>NaN</td>\n",
       "      <td>NaN</td>\n",
       "      <td>Our Deeds are the Reason of this #earthquake M...</td>\n",
       "      <td>1</td>\n",
       "    </tr>\n",
       "    <tr>\n",
       "      <th>1</th>\n",
       "      <td>4</td>\n",
       "      <td>NaN</td>\n",
       "      <td>NaN</td>\n",
       "      <td>Forest fire near La Ronge Sask. Canada</td>\n",
       "      <td>1</td>\n",
       "    </tr>\n",
       "    <tr>\n",
       "      <th>2</th>\n",
       "      <td>5</td>\n",
       "      <td>NaN</td>\n",
       "      <td>NaN</td>\n",
       "      <td>All residents asked to 'shelter in place' are ...</td>\n",
       "      <td>1</td>\n",
       "    </tr>\n",
       "    <tr>\n",
       "      <th>3</th>\n",
       "      <td>6</td>\n",
       "      <td>NaN</td>\n",
       "      <td>NaN</td>\n",
       "      <td>13,000 people receive #wildfires evacuation or...</td>\n",
       "      <td>1</td>\n",
       "    </tr>\n",
       "    <tr>\n",
       "      <th>4</th>\n",
       "      <td>7</td>\n",
       "      <td>NaN</td>\n",
       "      <td>NaN</td>\n",
       "      <td>Just got sent this photo from Ruby #Alaska as ...</td>\n",
       "      <td>1</td>\n",
       "    </tr>\n",
       "  </tbody>\n",
       "</table>\n",
       "</div>"
      ],
      "text/plain": [
       "   id keyword location                                               text  \\\n",
       "0   1     NaN      NaN  Our Deeds are the Reason of this #earthquake M...   \n",
       "1   4     NaN      NaN             Forest fire near La Ronge Sask. Canada   \n",
       "2   5     NaN      NaN  All residents asked to 'shelter in place' are ...   \n",
       "3   6     NaN      NaN  13,000 people receive #wildfires evacuation or...   \n",
       "4   7     NaN      NaN  Just got sent this photo from Ruby #Alaska as ...   \n",
       "\n",
       "   target  \n",
       "0       1  \n",
       "1       1  \n",
       "2       1  \n",
       "3       1  \n",
       "4       1  "
      ]
     },
     "execution_count": 4,
     "metadata": {},
     "output_type": "execute_result"
    }
   ],
   "source": [
    "train_data.head()"
   ]
  },
  {
   "cell_type": "code",
   "execution_count": 5,
   "metadata": {
    "execution": {
     "iopub.execute_input": "2021-03-22T06:48:38.821506Z",
     "iopub.status.busy": "2021-03-22T06:48:38.820690Z",
     "iopub.status.idle": "2021-03-22T06:48:38.823864Z",
     "shell.execute_reply": "2021-03-22T06:48:38.824449Z"
    },
    "papermill": {
     "duration": 0.027179,
     "end_time": "2021-03-22T06:48:38.824624",
     "exception": false,
     "start_time": "2021-03-22T06:48:38.797445",
     "status": "completed"
    },
    "tags": []
   },
   "outputs": [
    {
     "data": {
      "text/plain": [
       "(7613, 5)"
      ]
     },
     "execution_count": 5,
     "metadata": {},
     "output_type": "execute_result"
    }
   ],
   "source": [
    "train_data.shape"
   ]
  },
  {
   "cell_type": "code",
   "execution_count": 6,
   "metadata": {
    "execution": {
     "iopub.execute_input": "2021-03-22T06:48:38.867956Z",
     "iopub.status.busy": "2021-03-22T06:48:38.867207Z",
     "iopub.status.idle": "2021-03-22T06:48:38.871122Z",
     "shell.execute_reply": "2021-03-22T06:48:38.871676Z"
    },
    "papermill": {
     "duration": 0.027882,
     "end_time": "2021-03-22T06:48:38.871865",
     "exception": false,
     "start_time": "2021-03-22T06:48:38.843983",
     "status": "completed"
    },
    "tags": []
   },
   "outputs": [],
   "source": [
    "x_text = train_data[\"text\"]"
   ]
  },
  {
   "cell_type": "code",
   "execution_count": 7,
   "metadata": {
    "execution": {
     "iopub.execute_input": "2021-03-22T06:48:38.914224Z",
     "iopub.status.busy": "2021-03-22T06:48:38.913539Z",
     "iopub.status.idle": "2021-03-22T06:48:38.923716Z",
     "shell.execute_reply": "2021-03-22T06:48:38.923160Z"
    },
    "papermill": {
     "duration": 0.032533,
     "end_time": "2021-03-22T06:48:38.923884",
     "exception": false,
     "start_time": "2021-03-22T06:48:38.891351",
     "status": "completed"
    },
    "tags": []
   },
   "outputs": [],
   "source": [
    "import re\n",
    "\n",
    "def cleaning(sentence):\n",
    "    \n",
    "    sentence = re.sub(r\"won't\", \"will not\", sentence)\n",
    "    sentence = re.sub(r\"can\\'t\", \"can not\", sentence)\n",
    "    sentence = re.sub(r\"n\\'t\", \" not\", sentence)\n",
    "    sentence = re.sub(r\"\\'re\", \" are\", sentence)\n",
    "    sentence = re.sub(r\"\\'s\", \" is\", sentence)\n",
    "    sentence = re.sub(r\"\\'d\", \" would\", sentence)\n",
    "    sentence = re.sub(r\"\\'ll\", \" will\", sentence)\n",
    "    sentence = re.sub(r\"\\'t\", \" not\", sentence)\n",
    "    sentence = re.sub(r\"\\'ve\", \" have\", sentence)\n",
    "    sentence = re.sub(r\"\\'m\", \" am\", sentence)\n",
    "    sentence = re.sub(\"\\S*\\d\\S*\", \"\", sentence).strip()\n",
    "    sentence = re.sub('[^A-Za-z]+', ' ', sentence)\n",
    "    sentence = sentence.lower()                 # Converting to lowercase\n",
    "    sentence = re.sub(r'[?|!|\\'|\"|#]',r'',sentence)\n",
    "    sentence = re.sub(r'[.|,|)|(|\\|/]',r' ',sentence)        #Removing Punctuations\n",
    "    return sentence"
   ]
  },
  {
   "cell_type": "code",
   "execution_count": 8,
   "metadata": {
    "execution": {
     "iopub.execute_input": "2021-03-22T06:48:38.969697Z",
     "iopub.status.busy": "2021-03-22T06:48:38.969038Z",
     "iopub.status.idle": "2021-03-22T06:48:40.928757Z",
     "shell.execute_reply": "2021-03-22T06:48:40.928069Z"
    },
    "papermill": {
     "duration": 1.985068,
     "end_time": "2021-03-22T06:48:40.928948",
     "exception": false,
     "start_time": "2021-03-22T06:48:38.943880",
     "status": "completed"
    },
    "tags": []
   },
   "outputs": [],
   "source": [
    "import nltk\n",
    "from nltk.corpus import stopwords\n",
    "from nltk.stem import PorterStemmer"
   ]
  },
  {
   "cell_type": "code",
   "execution_count": 9,
   "metadata": {
    "execution": {
     "iopub.execute_input": "2021-03-22T06:48:40.978256Z",
     "iopub.status.busy": "2021-03-22T06:48:40.977245Z",
     "iopub.status.idle": "2021-03-22T06:48:40.981990Z",
     "shell.execute_reply": "2021-03-22T06:48:40.981438Z"
    },
    "papermill": {
     "duration": 0.033253,
     "end_time": "2021-03-22T06:48:40.982140",
     "exception": false,
     "start_time": "2021-03-22T06:48:40.948887",
     "status": "completed"
    },
    "tags": []
   },
   "outputs": [],
   "source": [
    "snow = nltk.stem.SnowballStemmer('english')"
   ]
  },
  {
   "cell_type": "code",
   "execution_count": 10,
   "metadata": {
    "execution": {
     "iopub.execute_input": "2021-03-22T06:48:41.029312Z",
     "iopub.status.busy": "2021-03-22T06:48:41.028537Z",
     "iopub.status.idle": "2021-03-22T06:48:42.780844Z",
     "shell.execute_reply": "2021-03-22T06:48:42.780167Z"
    },
    "papermill": {
     "duration": 1.778703,
     "end_time": "2021-03-22T06:48:42.780989",
     "exception": false,
     "start_time": "2021-03-22T06:48:41.002286",
     "status": "completed"
    },
    "tags": []
   },
   "outputs": [],
   "source": [
    "import nltk\n",
    "from nltk.corpus import stopwords\n",
    "from nltk.stem import PorterStemmer \n",
    "\n",
    "stop_words = set(stopwords.words('english'))       # set is used as we have to use 'not in' (to iterate) function\n",
    "\n",
    "temp = []\n",
    "\n",
    "for each_sentence in x_text:\n",
    "    each_sentence = cleaning(each_sentence)\n",
    "    each_word = [snow.stem(word) for word in each_sentence.split() if word  not in stop_words]\n",
    "    temp.append(each_word)   "
   ]
  },
  {
   "cell_type": "code",
   "execution_count": 11,
   "metadata": {
    "execution": {
     "iopub.execute_input": "2021-03-22T06:48:42.827086Z",
     "iopub.status.busy": "2021-03-22T06:48:42.826436Z",
     "iopub.status.idle": "2021-03-22T06:48:42.831118Z",
     "shell.execute_reply": "2021-03-22T06:48:42.830478Z"
    },
    "papermill": {
     "duration": 0.030004,
     "end_time": "2021-03-22T06:48:42.831256",
     "exception": false,
     "start_time": "2021-03-22T06:48:42.801252",
     "status": "completed"
    },
    "tags": []
   },
   "outputs": [
    {
     "data": {
      "text/plain": [
       "[['deed', 'reason', 'earthquak', 'may', 'allah', 'forgiv', 'us'],\n",
       " ['forest', 'fire', 'near', 'la', 'rong', 'sask', 'canada']]"
      ]
     },
     "execution_count": 11,
     "metadata": {},
     "output_type": "execute_result"
    }
   ],
   "source": [
    "temp[0:2]"
   ]
  },
  {
   "cell_type": "code",
   "execution_count": 12,
   "metadata": {
    "execution": {
     "iopub.execute_input": "2021-03-22T06:48:42.896372Z",
     "iopub.status.busy": "2021-03-22T06:48:42.891107Z",
     "iopub.status.idle": "2021-03-22T06:48:42.904565Z",
     "shell.execute_reply": "2021-03-22T06:48:42.904038Z"
    },
    "papermill": {
     "duration": 0.052841,
     "end_time": "2021-03-22T06:48:42.904726",
     "exception": false,
     "start_time": "2021-03-22T06:48:42.851885",
     "status": "completed"
    },
    "tags": []
   },
   "outputs": [],
   "source": [
    "# only to remove quotes for each word\n",
    "\n",
    "final_word = []\n",
    "\n",
    "for row in temp:\n",
    "    seq = ''\n",
    "    for word in row:\n",
    "        seq = seq + ' ' + word\n",
    "    final_word.append(seq)"
   ]
  },
  {
   "cell_type": "code",
   "execution_count": 13,
   "metadata": {
    "execution": {
     "iopub.execute_input": "2021-03-22T06:48:42.951482Z",
     "iopub.status.busy": "2021-03-22T06:48:42.950756Z",
     "iopub.status.idle": "2021-03-22T06:48:42.956054Z",
     "shell.execute_reply": "2021-03-22T06:48:42.955493Z"
    },
    "papermill": {
     "duration": 0.030798,
     "end_time": "2021-03-22T06:48:42.956204",
     "exception": false,
     "start_time": "2021-03-22T06:48:42.925406",
     "status": "completed"
    },
    "tags": []
   },
   "outputs": [
    {
     "data": {
      "text/plain": [
       "[' deed reason earthquak may allah forgiv us',\n",
       " ' forest fire near la rong sask canada']"
      ]
     },
     "execution_count": 13,
     "metadata": {},
     "output_type": "execute_result"
    }
   ],
   "source": [
    "final_word[0:2]"
   ]
  },
  {
   "cell_type": "code",
   "execution_count": 14,
   "metadata": {
    "execution": {
     "iopub.execute_input": "2021-03-22T06:48:43.011209Z",
     "iopub.status.busy": "2021-03-22T06:48:43.010500Z",
     "iopub.status.idle": "2021-03-22T06:48:43.162177Z",
     "shell.execute_reply": "2021-03-22T06:48:43.160397Z"
    },
    "papermill": {
     "duration": 0.184806,
     "end_time": "2021-03-22T06:48:43.162348",
     "exception": false,
     "start_time": "2021-03-22T06:48:42.977542",
     "status": "completed"
    },
    "tags": []
   },
   "outputs": [],
   "source": [
    "from sklearn.feature_extraction.text import CountVectorizer\n",
    "\n",
    "converter = CountVectorizer()\n",
    "x = converter.fit_transform(final_word)"
   ]
  },
  {
   "cell_type": "code",
   "execution_count": 15,
   "metadata": {
    "execution": {
     "iopub.execute_input": "2021-03-22T06:48:43.211575Z",
     "iopub.status.busy": "2021-03-22T06:48:43.210332Z",
     "iopub.status.idle": "2021-03-22T06:48:43.361109Z",
     "shell.execute_reply": "2021-03-22T06:48:43.360416Z"
    },
    "papermill": {
     "duration": 0.17738,
     "end_time": "2021-03-22T06:48:43.361252",
     "exception": false,
     "start_time": "2021-03-22T06:48:43.183872",
     "status": "completed"
    },
    "tags": []
   },
   "outputs": [],
   "source": [
    "x = x.toarray()"
   ]
  },
  {
   "cell_type": "code",
   "execution_count": 16,
   "metadata": {
    "execution": {
     "iopub.execute_input": "2021-03-22T06:48:43.409089Z",
     "iopub.status.busy": "2021-03-22T06:48:43.408435Z",
     "iopub.status.idle": "2021-03-22T06:48:43.411051Z",
     "shell.execute_reply": "2021-03-22T06:48:43.411610Z"
    },
    "papermill": {
     "duration": 0.029068,
     "end_time": "2021-03-22T06:48:43.411770",
     "exception": false,
     "start_time": "2021-03-22T06:48:43.382702",
     "status": "completed"
    },
    "tags": []
   },
   "outputs": [],
   "source": [
    "y = train_data[\"target\"]"
   ]
  },
  {
   "cell_type": "code",
   "execution_count": 17,
   "metadata": {
    "execution": {
     "iopub.execute_input": "2021-03-22T06:48:43.457727Z",
     "iopub.status.busy": "2021-03-22T06:48:43.457139Z",
     "iopub.status.idle": "2021-03-22T06:48:43.975939Z",
     "shell.execute_reply": "2021-03-22T06:48:43.977155Z"
    },
    "papermill": {
     "duration": 0.54413,
     "end_time": "2021-03-22T06:48:43.977362",
     "exception": false,
     "start_time": "2021-03-22T06:48:43.433232",
     "status": "completed"
    },
    "tags": []
   },
   "outputs": [
    {
     "name": "stdout",
     "output_type": "stream",
     "text": [
      "x_train (5329, 13366)\n",
      "x_test (2284, 13366)\n",
      "y_train (5329,)\n",
      "y_test (2284,)\n"
     ]
    }
   ],
   "source": [
    "from sklearn.model_selection import train_test_split\n",
    "\n",
    "x_train,x_test,y_train,y_test = train_test_split(x,y,test_size = 0.3 , random_state = 0)\n",
    "\n",
    "print(\"x_train\",x_train.shape)\n",
    "print(\"x_test\",x_test.shape)\n",
    "print(\"y_train\",y_train.shape)\n",
    "print(\"y_test\",y_test.shape)"
   ]
  },
  {
   "cell_type": "markdown",
   "metadata": {
    "papermill": {
     "duration": 0.025411,
     "end_time": "2021-03-22T06:48:44.025643",
     "exception": false,
     "start_time": "2021-03-22T06:48:44.000232",
     "status": "completed"
    },
    "tags": []
   },
   "source": [
    "# Building model"
   ]
  },
  {
   "cell_type": "code",
   "execution_count": 18,
   "metadata": {
    "execution": {
     "iopub.execute_input": "2021-03-22T06:48:44.080620Z",
     "iopub.status.busy": "2021-03-22T06:48:44.079898Z",
     "iopub.status.idle": "2021-03-22T06:49:22.928782Z",
     "shell.execute_reply": "2021-03-22T06:49:22.928231Z"
    },
    "papermill": {
     "duration": 38.880647,
     "end_time": "2021-03-22T06:49:22.928957",
     "exception": false,
     "start_time": "2021-03-22T06:48:44.048310",
     "status": "completed"
    },
    "tags": []
   },
   "outputs": [
    {
     "name": "stdout",
     "output_type": "stream",
     "text": [
      "Best C Value is  {'C': 0.1}\n",
      "test accuracy  81.26094570928196\n"
     ]
    }
   ],
   "source": [
    "from sklearn.linear_model import LogisticRegression\n",
    "from sklearn.model_selection import GridSearchCV\n",
    "\n",
    "model_lr = LogisticRegression(max_iter = 1000)\n",
    "\n",
    "hyperparmeter_C = {'C':[0.1]}\n",
    "\n",
    "grid_search = GridSearchCV(estimator = model_lr , param_grid = hyperparmeter_C)\n",
    "\n",
    "grid_search.fit(x_train,y_train)\n",
    "\n",
    "grid_search.best_params_\n",
    "\n",
    "print(\"Best C Value is \",grid_search.best_params_)\n",
    "\n",
    "print(\"test accuracy \",(grid_search.score(x_test,y_test))*float(100))"
   ]
  },
  {
   "cell_type": "markdown",
   "metadata": {
    "papermill": {
     "duration": 0.022595,
     "end_time": "2021-03-22T06:49:22.974728",
     "exception": false,
     "start_time": "2021-03-22T06:49:22.952133",
     "status": "completed"
    },
    "tags": []
   },
   "source": [
    "# For test data"
   ]
  },
  {
   "cell_type": "code",
   "execution_count": 19,
   "metadata": {
    "execution": {
     "iopub.execute_input": "2021-03-22T06:49:23.032178Z",
     "iopub.status.busy": "2021-03-22T06:49:23.031096Z",
     "iopub.status.idle": "2021-03-22T06:49:23.035753Z",
     "shell.execute_reply": "2021-03-22T06:49:23.035236Z"
    },
    "papermill": {
     "duration": 0.038532,
     "end_time": "2021-03-22T06:49:23.035908",
     "exception": false,
     "start_time": "2021-03-22T06:49:22.997376",
     "status": "completed"
    },
    "tags": []
   },
   "outputs": [
    {
     "data": {
      "text/html": [
       "<div>\n",
       "<style scoped>\n",
       "    .dataframe tbody tr th:only-of-type {\n",
       "        vertical-align: middle;\n",
       "    }\n",
       "\n",
       "    .dataframe tbody tr th {\n",
       "        vertical-align: top;\n",
       "    }\n",
       "\n",
       "    .dataframe thead th {\n",
       "        text-align: right;\n",
       "    }\n",
       "</style>\n",
       "<table border=\"1\" class=\"dataframe\">\n",
       "  <thead>\n",
       "    <tr style=\"text-align: right;\">\n",
       "      <th></th>\n",
       "      <th>id</th>\n",
       "      <th>keyword</th>\n",
       "      <th>location</th>\n",
       "      <th>text</th>\n",
       "    </tr>\n",
       "  </thead>\n",
       "  <tbody>\n",
       "    <tr>\n",
       "      <th>0</th>\n",
       "      <td>0</td>\n",
       "      <td>NaN</td>\n",
       "      <td>NaN</td>\n",
       "      <td>Just happened a terrible car crash</td>\n",
       "    </tr>\n",
       "    <tr>\n",
       "      <th>1</th>\n",
       "      <td>2</td>\n",
       "      <td>NaN</td>\n",
       "      <td>NaN</td>\n",
       "      <td>Heard about #earthquake is different cities, s...</td>\n",
       "    </tr>\n",
       "    <tr>\n",
       "      <th>2</th>\n",
       "      <td>3</td>\n",
       "      <td>NaN</td>\n",
       "      <td>NaN</td>\n",
       "      <td>there is a forest fire at spot pond, geese are...</td>\n",
       "    </tr>\n",
       "    <tr>\n",
       "      <th>3</th>\n",
       "      <td>9</td>\n",
       "      <td>NaN</td>\n",
       "      <td>NaN</td>\n",
       "      <td>Apocalypse lighting. #Spokane #wildfires</td>\n",
       "    </tr>\n",
       "    <tr>\n",
       "      <th>4</th>\n",
       "      <td>11</td>\n",
       "      <td>NaN</td>\n",
       "      <td>NaN</td>\n",
       "      <td>Typhoon Soudelor kills 28 in China and Taiwan</td>\n",
       "    </tr>\n",
       "  </tbody>\n",
       "</table>\n",
       "</div>"
      ],
      "text/plain": [
       "   id keyword location                                               text\n",
       "0   0     NaN      NaN                 Just happened a terrible car crash\n",
       "1   2     NaN      NaN  Heard about #earthquake is different cities, s...\n",
       "2   3     NaN      NaN  there is a forest fire at spot pond, geese are...\n",
       "3   9     NaN      NaN           Apocalypse lighting. #Spokane #wildfires\n",
       "4  11     NaN      NaN      Typhoon Soudelor kills 28 in China and Taiwan"
      ]
     },
     "execution_count": 19,
     "metadata": {},
     "output_type": "execute_result"
    }
   ],
   "source": [
    "test_data.head()"
   ]
  },
  {
   "cell_type": "code",
   "execution_count": 20,
   "metadata": {
    "execution": {
     "iopub.execute_input": "2021-03-22T06:49:23.088557Z",
     "iopub.status.busy": "2021-03-22T06:49:23.087871Z",
     "iopub.status.idle": "2021-03-22T06:49:23.091131Z",
     "shell.execute_reply": "2021-03-22T06:49:23.090573Z"
    },
    "papermill": {
     "duration": 0.031838,
     "end_time": "2021-03-22T06:49:23.091282",
     "exception": false,
     "start_time": "2021-03-22T06:49:23.059444",
     "status": "completed"
    },
    "tags": []
   },
   "outputs": [],
   "source": [
    "x_test_text = test_data[\"text\"]"
   ]
  },
  {
   "cell_type": "code",
   "execution_count": 21,
   "metadata": {
    "execution": {
     "iopub.execute_input": "2021-03-22T06:49:23.157435Z",
     "iopub.status.busy": "2021-03-22T06:49:23.152166Z",
     "iopub.status.idle": "2021-03-22T06:49:23.871893Z",
     "shell.execute_reply": "2021-03-22T06:49:23.871188Z"
    },
    "papermill": {
     "duration": 0.756934,
     "end_time": "2021-03-22T06:49:23.872042",
     "exception": false,
     "start_time": "2021-03-22T06:49:23.115108",
     "status": "completed"
    },
    "tags": []
   },
   "outputs": [],
   "source": [
    "temp_test = []\n",
    "\n",
    "for each_sentence in x_test_text:\n",
    "    each_sentence = cleaning(each_sentence)\n",
    "    each_word = [snow.stem(word) for word in each_sentence.split() if word  not in stop_words]\n",
    "    temp_test.append(each_word) "
   ]
  },
  {
   "cell_type": "code",
   "execution_count": 22,
   "metadata": {
    "execution": {
     "iopub.execute_input": "2021-03-22T06:49:23.925454Z",
     "iopub.status.busy": "2021-03-22T06:49:23.924664Z",
     "iopub.status.idle": "2021-03-22T06:49:23.929162Z",
     "shell.execute_reply": "2021-03-22T06:49:23.928522Z"
    },
    "papermill": {
     "duration": 0.033697,
     "end_time": "2021-03-22T06:49:23.929303",
     "exception": false,
     "start_time": "2021-03-22T06:49:23.895606",
     "status": "completed"
    },
    "tags": []
   },
   "outputs": [
    {
     "data": {
      "text/plain": [
       "[['happen', 'terribl', 'car', 'crash'],\n",
       " ['heard', 'earthquak', 'differ', 'citi', 'stay', 'safe', 'everyon']]"
      ]
     },
     "execution_count": 22,
     "metadata": {},
     "output_type": "execute_result"
    }
   ],
   "source": [
    "temp_test[0:2]"
   ]
  },
  {
   "cell_type": "code",
   "execution_count": 23,
   "metadata": {
    "execution": {
     "iopub.execute_input": "2021-03-22T06:49:23.994964Z",
     "iopub.status.busy": "2021-03-22T06:49:23.994282Z",
     "iopub.status.idle": "2021-03-22T06:49:23.997905Z",
     "shell.execute_reply": "2021-03-22T06:49:23.997357Z"
    },
    "papermill": {
     "duration": 0.044465,
     "end_time": "2021-03-22T06:49:23.998049",
     "exception": false,
     "start_time": "2021-03-22T06:49:23.953584",
     "status": "completed"
    },
    "tags": []
   },
   "outputs": [],
   "source": [
    "# only to remove quotes for each word\n",
    "\n",
    "final_word_test = []\n",
    "\n",
    "for row in temp_test:\n",
    "    seq = ''\n",
    "    for word in row:\n",
    "        seq = seq + ' ' + word\n",
    "    final_word_test.append(seq)"
   ]
  },
  {
   "cell_type": "code",
   "execution_count": 24,
   "metadata": {
    "execution": {
     "iopub.execute_input": "2021-03-22T06:49:24.053393Z",
     "iopub.status.busy": "2021-03-22T06:49:24.052631Z",
     "iopub.status.idle": "2021-03-22T06:49:24.057347Z",
     "shell.execute_reply": "2021-03-22T06:49:24.056846Z"
    },
    "papermill": {
     "duration": 0.034842,
     "end_time": "2021-03-22T06:49:24.057482",
     "exception": false,
     "start_time": "2021-03-22T06:49:24.022640",
     "status": "completed"
    },
    "tags": []
   },
   "outputs": [
    {
     "data": {
      "text/plain": [
       "[' happen terribl car crash', ' heard earthquak differ citi stay safe everyon']"
      ]
     },
     "execution_count": 24,
     "metadata": {},
     "output_type": "execute_result"
    }
   ],
   "source": [
    "final_word_test[0:2]"
   ]
  },
  {
   "cell_type": "code",
   "execution_count": 25,
   "metadata": {
    "execution": {
     "iopub.execute_input": "2021-03-22T06:49:24.136505Z",
     "iopub.status.busy": "2021-03-22T06:49:24.125918Z",
     "iopub.status.idle": "2021-03-22T06:49:24.324180Z",
     "shell.execute_reply": "2021-03-22T06:49:24.323608Z"
    },
    "papermill": {
     "duration": 0.24215,
     "end_time": "2021-03-22T06:49:24.324333",
     "exception": false,
     "start_time": "2021-03-22T06:49:24.082183",
     "status": "completed"
    },
    "tags": []
   },
   "outputs": [],
   "source": [
    "converter.fit(final_word)\n",
    "test_transformed = converter.transform(final_word_test)"
   ]
  },
  {
   "cell_type": "code",
   "execution_count": 26,
   "metadata": {
    "execution": {
     "iopub.execute_input": "2021-03-22T06:49:24.380859Z",
     "iopub.status.busy": "2021-03-22T06:49:24.380192Z",
     "iopub.status.idle": "2021-03-22T06:50:23.084666Z",
     "shell.execute_reply": "2021-03-22T06:50:23.085540Z"
    },
    "papermill": {
     "duration": 58.736512,
     "end_time": "2021-03-22T06:50:23.085833",
     "exception": false,
     "start_time": "2021-03-22T06:49:24.349321",
     "status": "completed"
    },
    "tags": []
   },
   "outputs": [],
   "source": [
    "from sklearn.linear_model import LogisticRegression\n",
    "from sklearn.model_selection import GridSearchCV\n",
    "\n",
    "model_lr = LogisticRegression(max_iter = 1000)\n",
    "\n",
    "hyperparmeter_C = {'C':[0.1]}\n",
    "\n",
    "grid_search = GridSearchCV(estimator = model_lr , param_grid = hyperparmeter_C)\n",
    "\n",
    "grid_search.fit(x,y)\n",
    "\n",
    "\n",
    "final_prediction = grid_search.predict(test_transformed)"
   ]
  },
  {
   "cell_type": "code",
   "execution_count": 27,
   "metadata": {
    "execution": {
     "iopub.execute_input": "2021-03-22T06:50:23.191705Z",
     "iopub.status.busy": "2021-03-22T06:50:23.190648Z",
     "iopub.status.idle": "2021-03-22T06:50:23.195475Z",
     "shell.execute_reply": "2021-03-22T06:50:23.196170Z"
    },
    "papermill": {
     "duration": 0.061504,
     "end_time": "2021-03-22T06:50:23.196349",
     "exception": false,
     "start_time": "2021-03-22T06:50:23.134845",
     "status": "completed"
    },
    "tags": []
   },
   "outputs": [
    {
     "data": {
      "text/plain": [
       "array([1, 1, 1, ..., 1, 1, 0])"
      ]
     },
     "execution_count": 27,
     "metadata": {},
     "output_type": "execute_result"
    }
   ],
   "source": [
    "final_prediction"
   ]
  },
  {
   "cell_type": "code",
   "execution_count": 28,
   "metadata": {
    "execution": {
     "iopub.execute_input": "2021-03-22T06:50:23.261756Z",
     "iopub.status.busy": "2021-03-22T06:50:23.261136Z",
     "iopub.status.idle": "2021-03-22T06:50:23.288827Z",
     "shell.execute_reply": "2021-03-22T06:50:23.288157Z"
    },
    "papermill": {
     "duration": 0.060106,
     "end_time": "2021-03-22T06:50:23.288977",
     "exception": false,
     "start_time": "2021-03-22T06:50:23.228871",
     "status": "completed"
    },
    "tags": []
   },
   "outputs": [],
   "source": [
    "pred=pd.DataFrame(final_prediction)\n",
    "\n",
    "sub_df=pd.read_csv(r\"/kaggle/input/nlp-getting-started/sample_submission.csv\")\n",
    "datasets=pd.concat([sub_df['id'],pred],axis=1)\n",
    "datasets.columns=['id','target']\n",
    "datasets.to_csv('submission.csv',index=False)"
   ]
  }
 ],
 "metadata": {
  "kernelspec": {
   "display_name": "Python 3 (ipykernel)",
   "language": "python",
   "name": "python3"
  },
  "language_info": {
   "codemirror_mode": {
    "name": "ipython",
    "version": 3
   },
   "file_extension": ".py",
   "mimetype": "text/x-python",
   "name": "python",
   "nbconvert_exporter": "python",
   "pygments_lexer": "ipython3",
   "version": "3.11.5"
  },
  "papermill": {
   "default_parameters": {},
   "duration": 111.711163,
   "end_time": "2021-03-22T06:50:24.026673",
   "environment_variables": {},
   "exception": null,
   "input_path": "__notebook__.ipynb",
   "output_path": "__notebook__.ipynb",
   "parameters": {},
   "start_time": "2021-03-22T06:48:32.315510",
   "version": "2.2.2"
  }
 },
 "nbformat": 4,
 "nbformat_minor": 4
}
