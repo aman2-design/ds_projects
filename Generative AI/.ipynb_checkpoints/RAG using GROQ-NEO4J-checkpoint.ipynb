{
 "cells": [
  {
   "cell_type": "code",
   "execution_count": 7,
   "id": "d43164ff-b76f-4459-8df6-ad465c3d307e",
   "metadata": {},
   "outputs": [],
   "source": [
    "#!pip install --upgrade langchain langchain-community langchain-groq neo4j"
   ]
  },
  {
   "cell_type": "code",
   "execution_count": 9,
   "id": "0b9bd8fa-55a1-469a-acf1-5b813bc65a48",
   "metadata": {},
   "outputs": [],
   "source": [
    "# this data will come once we will create instance from neo0j official webpage\n",
    "\n",
    "# Graph DB configuration\n",
    "NEO4J_URI = \"neo4j+s://09f11123.databases.neo4j.io\"\n",
    "NEO4J_USERNAME = \"neo4j\"\n",
    "NEO4J_PASSWORD = \"aUbDV-nkFtr1BnCAixRvswdj75Yciiw8yxv53j5_DLQ\"\n"
   ]
  },
  {
   "cell_type": "code",
   "execution_count": 13,
   "id": "1b1401dc-bb11-497e-8e30-e7f12dac59c4",
   "metadata": {},
   "outputs": [],
   "source": [
    "import os\n",
    "os.environ[\"NEO4J_URI\"] = NEO4J_URI\n",
    "os.environ[\"NEO4J_USERNAME\"] = NEO4J_USERNAME\n",
    "os.environ[\"NEO4J_PASSWORD\"] = NEO4J_PASSWORD"
   ]
  },
  {
   "cell_type": "code",
   "execution_count": null,
   "id": "62fdfdb1-fec0-433e-adb5-d9db01c9dd4a",
   "metadata": {},
   "outputs": [],
   "source": []
  },
  {
   "cell_type": "code",
   "execution_count": null,
   "id": "45af9ab4-287d-4b22-ae5f-6b244cbffa86",
   "metadata": {},
   "outputs": [],
   "source": []
  },
  {
   "cell_type": "code",
   "execution_count": null,
   "id": "3ef6655c-6044-420f-a950-aeaf3be119f2",
   "metadata": {},
   "outputs": [],
   "source": []
  },
  {
   "cell_type": "code",
   "execution_count": null,
   "id": "03a1c8ed-0399-4732-9b07-a165eb234f87",
   "metadata": {},
   "outputs": [],
   "source": []
  },
  {
   "cell_type": "code",
   "execution_count": null,
   "id": "b1b8e046-f500-4888-9205-f684d3c41f67",
   "metadata": {},
   "outputs": [],
   "source": []
  },
  {
   "cell_type": "code",
   "execution_count": null,
   "id": "0c4dfb68-b3c5-4129-af25-2b01381fde58",
   "metadata": {},
   "outputs": [],
   "source": []
  },
  {
   "cell_type": "code",
   "execution_count": null,
   "id": "57a9317f-5fe7-4ef8-b7c6-72e3f6beb16c",
   "metadata": {},
   "outputs": [],
   "source": []
  },
  {
   "cell_type": "code",
   "execution_count": null,
   "id": "511eefbb-2da1-49bf-937e-d3261533cef1",
   "metadata": {},
   "outputs": [],
   "source": []
  },
  {
   "cell_type": "code",
   "execution_count": null,
   "id": "b2874623-1781-434a-ad7a-1f366fabd28b",
   "metadata": {},
   "outputs": [],
   "source": []
  },
  {
   "cell_type": "code",
   "execution_count": null,
   "id": "75accbec-93ee-4f70-95e4-c6bd480bd497",
   "metadata": {},
   "outputs": [],
   "source": []
  },
  {
   "cell_type": "code",
   "execution_count": null,
   "id": "680770e9-fdcb-4ace-a476-a78739a6be73",
   "metadata": {},
   "outputs": [],
   "source": []
  },
  {
   "cell_type": "code",
   "execution_count": null,
   "id": "d95c937c-c22b-4ef6-aa42-487030a9a3f8",
   "metadata": {},
   "outputs": [],
   "source": []
  },
  {
   "cell_type": "code",
   "execution_count": null,
   "id": "8c7511af-7c58-45c3-83f7-7f1d1c3e2386",
   "metadata": {},
   "outputs": [],
   "source": []
  },
  {
   "cell_type": "code",
   "execution_count": null,
   "id": "ea38b733-12e4-4657-812a-5c07723e1e0b",
   "metadata": {},
   "outputs": [],
   "source": []
  },
  {
   "cell_type": "code",
   "execution_count": null,
   "id": "0184e7ce-f556-4b05-abf2-4d4f9e260f33",
   "metadata": {},
   "outputs": [],
   "source": []
  },
  {
   "cell_type": "code",
   "execution_count": null,
   "id": "29e84781-04d6-4c6c-a0b1-65c03cdedd25",
   "metadata": {},
   "outputs": [],
   "source": []
  },
  {
   "cell_type": "code",
   "execution_count": null,
   "id": "7f346ddd-bd23-4688-8aa2-c1f67bf04f57",
   "metadata": {},
   "outputs": [],
   "source": []
  }
 ],
 "metadata": {
  "kernelspec": {
   "display_name": "Python 3 (ipykernel)",
   "language": "python",
   "name": "python3"
  },
  "language_info": {
   "codemirror_mode": {
    "name": "ipython",
    "version": 3
   },
   "file_extension": ".py",
   "mimetype": "text/x-python",
   "name": "python",
   "nbconvert_exporter": "python",
   "pygments_lexer": "ipython3",
   "version": "3.12.4"
  }
 },
 "nbformat": 4,
 "nbformat_minor": 5
}
